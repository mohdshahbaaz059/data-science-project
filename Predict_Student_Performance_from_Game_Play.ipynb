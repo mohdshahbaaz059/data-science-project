{
  "nbformat": 4,
  "nbformat_minor": 0,
  "metadata": {
    "colab": {
      "provenance": [],
      "authorship_tag": "ABX9TyPMDusF46xo/EhASyeLNz9V",
      "include_colab_link": true
    },
    "kernelspec": {
      "name": "python3",
      "display_name": "Python 3"
    },
    "language_info": {
      "name": "python"
    }
  },
  "cells": [
    {
      "cell_type": "markdown",
      "metadata": {
        "id": "view-in-github",
        "colab_type": "text"
      },
      "source": [
        "<a href=\"https://colab.research.google.com/github/mohdshahbaaz059/data-science-project/blob/main/Predict_Student_Performance_from_Game_Play.ipynb\" target=\"_parent\"><img src=\"https://colab.research.google.com/assets/colab-badge.svg\" alt=\"Open In Colab\"/></a>"
      ]
    },
    {
      "cell_type": "code",
      "source": [
        "import chardet\n",
        "import pandas as pd\n",
        "\n",
        "filename = 'Predict Student Performance from Game Play.csv'\n",
        "with open(filename, 'rb') as f:\n",
        "    result = chardet.detect(f.readline())  # or readline if the file is large\n",
        "\n",
        "\n",
        "df = pd.read_csv(filename, encoding=result['encoding'])"
      ],
      "metadata": {
        "id": "34oL2Aa2YoBz"
      },
      "execution_count": 6,
      "outputs": []
    },
    {
      "cell_type": "code",
      "source": [
        "import pandas as pd\n"
      ],
      "metadata": {
        "id": "g6EOFakxUYGW"
      },
      "execution_count": 3,
      "outputs": []
    },
    {
      "cell_type": "code",
      "source": [
        "dataset = pd.read_csv('test.csv')"
      ],
      "metadata": {
        "id": "YEd-k9lBUIsf"
      },
      "execution_count": 8,
      "outputs": []
    },
    {
      "cell_type": "code",
      "source": [
        "dataset"
      ],
      "metadata": {
        "colab": {
          "base_uri": "https://localhost:8080/",
          "height": 661
        },
        "id": "ypT6sPUAchxc",
        "outputId": "99b6684c-a2ea-44fc-d5e0-846b2a5b659e"
      },
      "execution_count": null,
      "outputs": [
        {
          "output_type": "execute_result",
          "data": {
            "text/plain": [
              "             session_id  index  elapsed_time      event_name       name  \\\n",
              "0     20090109393214576      0             0  cutscene_click      basic   \n",
              "1     20090109393214576      1          1965    person_click      basic   \n",
              "2     20090109393214576      2          3614    person_click      basic   \n",
              "3     20090109393214576      3          5330    person_click      basic   \n",
              "4     20090109393214576      4          6397    person_click      basic   \n",
              "...                 ...    ...           ...             ...        ...   \n",
              "3723  20090312331414616   1001       1581679       map_hover      basic   \n",
              "3724  20090312331414616   1002       1583044       map_hover      basic   \n",
              "3725  20090312331414616   1003       1583410       map_click  undefined   \n",
              "3726  20090312331414616   1004       1585841  navigate_click  undefined   \n",
              "3727  20090312331414616   1005       1587810      checkpoint      basic   \n",
              "\n",
              "      level  page  room_coor_x  room_coor_y  screen_coor_x  ...  \\\n",
              "0         0   NaN  -413.991405    75.685314          380.0  ...   \n",
              "1         0   NaN  -105.991405   -63.314686          688.0  ...   \n",
              "2         0   NaN  -418.991405    47.685314          375.0  ...   \n",
              "3         0   NaN  -110.991405   -57.314686          683.0  ...   \n",
              "4         0   NaN  -110.991405   -57.314686          683.0  ...   \n",
              "...     ...   ...          ...          ...            ...  ...   \n",
              "3723     22   NaN          NaN          NaN            NaN  ...   \n",
              "3724     22   NaN          NaN          NaN            NaN  ...   \n",
              "3725     22   NaN   483.726363    -3.880047          456.0  ...   \n",
              "3726     22   NaN   192.372139    38.216178          383.0  ...   \n",
              "3727     22   NaN          NaN          NaN            NaN  ...   \n",
              "\n",
              "      hover_duration                           text             fqid  \\\n",
              "0                NaN                      undefined            intro   \n",
              "1                NaN  Whatcha doing over there, Jo?           gramps   \n",
              "2                NaN         Just talking to Teddy.           gramps   \n",
              "3                NaN     I gotta run to my meeting!           gramps   \n",
              "4                NaN            Can I come, Gramps?           gramps   \n",
              "...              ...                            ...              ...   \n",
              "3723           484.0                            NaN   tunic.wildlife   \n",
              "3724           783.0                            NaN  tunic.capitol_2   \n",
              "3725             NaN                            NaN  tunic.capitol_2   \n",
              "3726             NaN                            NaN   chap4_finale_c   \n",
              "3727             NaN                            NaN   chap4_finale_c   \n",
              "\n",
              "                           room_fqid  \\\n",
              "0     tunic.historicalsociety.closet   \n",
              "1     tunic.historicalsociety.closet   \n",
              "2     tunic.historicalsociety.closet   \n",
              "3     tunic.historicalsociety.closet   \n",
              "4     tunic.historicalsociety.closet   \n",
              "...                              ...   \n",
              "3723   tunic.historicalsociety.entry   \n",
              "3724   tunic.historicalsociety.entry   \n",
              "3725   tunic.historicalsociety.entry   \n",
              "3726            tunic.capitol_2.hall   \n",
              "3727            tunic.capitol_2.hall   \n",
              "\n",
              "                                              text_fqid fullscreen  hq  music  \\\n",
              "0                  tunic.historicalsociety.closet.intro          0   0      1   \n",
              "1     tunic.historicalsociety.closet.gramps.intro_0_...          0   0      1   \n",
              "2     tunic.historicalsociety.closet.gramps.intro_0_...          0   0      1   \n",
              "3     tunic.historicalsociety.closet.gramps.intro_0_...          0   0      1   \n",
              "4     tunic.historicalsociety.closet.gramps.intro_0_...          0   0      1   \n",
              "...                                                 ...        ...  ..    ...   \n",
              "3723                                                NaN          0   0      1   \n",
              "3724                                                NaN          0   0      1   \n",
              "3725                                                NaN          0   0      1   \n",
              "3726                                                NaN          0   0      1   \n",
              "3727                                                NaN          0   0      1   \n",
              "\n",
              "      level_group session_level  \n",
              "0             0-4             0  \n",
              "1             0-4             0  \n",
              "2             0-4             0  \n",
              "3             0-4             0  \n",
              "4             0-4             0  \n",
              "...           ...           ...  \n",
              "3723        13-22             8  \n",
              "3724        13-22             8  \n",
              "3725        13-22             8  \n",
              "3726        13-22             8  \n",
              "3727        13-22             8  \n",
              "\n",
              "[3728 rows x 21 columns]"
            ],
            "text/html": [
              "\n",
              "  <div id=\"df-e63ba5d8-b171-4605-b0a3-74b10c0f1698\">\n",
              "    <div class=\"colab-df-container\">\n",
              "      <div>\n",
              "<style scoped>\n",
              "    .dataframe tbody tr th:only-of-type {\n",
              "        vertical-align: middle;\n",
              "    }\n",
              "\n",
              "    .dataframe tbody tr th {\n",
              "        vertical-align: top;\n",
              "    }\n",
              "\n",
              "    .dataframe thead th {\n",
              "        text-align: right;\n",
              "    }\n",
              "</style>\n",
              "<table border=\"1\" class=\"dataframe\">\n",
              "  <thead>\n",
              "    <tr style=\"text-align: right;\">\n",
              "      <th></th>\n",
              "      <th>session_id</th>\n",
              "      <th>index</th>\n",
              "      <th>elapsed_time</th>\n",
              "      <th>event_name</th>\n",
              "      <th>name</th>\n",
              "      <th>level</th>\n",
              "      <th>page</th>\n",
              "      <th>room_coor_x</th>\n",
              "      <th>room_coor_y</th>\n",
              "      <th>screen_coor_x</th>\n",
              "      <th>...</th>\n",
              "      <th>hover_duration</th>\n",
              "      <th>text</th>\n",
              "      <th>fqid</th>\n",
              "      <th>room_fqid</th>\n",
              "      <th>text_fqid</th>\n",
              "      <th>fullscreen</th>\n",
              "      <th>hq</th>\n",
              "      <th>music</th>\n",
              "      <th>level_group</th>\n",
              "      <th>session_level</th>\n",
              "    </tr>\n",
              "  </thead>\n",
              "  <tbody>\n",
              "    <tr>\n",
              "      <th>0</th>\n",
              "      <td>20090109393214576</td>\n",
              "      <td>0</td>\n",
              "      <td>0</td>\n",
              "      <td>cutscene_click</td>\n",
              "      <td>basic</td>\n",
              "      <td>0</td>\n",
              "      <td>NaN</td>\n",
              "      <td>-413.991405</td>\n",
              "      <td>75.685314</td>\n",
              "      <td>380.0</td>\n",
              "      <td>...</td>\n",
              "      <td>NaN</td>\n",
              "      <td>undefined</td>\n",
              "      <td>intro</td>\n",
              "      <td>tunic.historicalsociety.closet</td>\n",
              "      <td>tunic.historicalsociety.closet.intro</td>\n",
              "      <td>0</td>\n",
              "      <td>0</td>\n",
              "      <td>1</td>\n",
              "      <td>0-4</td>\n",
              "      <td>0</td>\n",
              "    </tr>\n",
              "    <tr>\n",
              "      <th>1</th>\n",
              "      <td>20090109393214576</td>\n",
              "      <td>1</td>\n",
              "      <td>1965</td>\n",
              "      <td>person_click</td>\n",
              "      <td>basic</td>\n",
              "      <td>0</td>\n",
              "      <td>NaN</td>\n",
              "      <td>-105.991405</td>\n",
              "      <td>-63.314686</td>\n",
              "      <td>688.0</td>\n",
              "      <td>...</td>\n",
              "      <td>NaN</td>\n",
              "      <td>Whatcha doing over there, Jo?</td>\n",
              "      <td>gramps</td>\n",
              "      <td>tunic.historicalsociety.closet</td>\n",
              "      <td>tunic.historicalsociety.closet.gramps.intro_0_...</td>\n",
              "      <td>0</td>\n",
              "      <td>0</td>\n",
              "      <td>1</td>\n",
              "      <td>0-4</td>\n",
              "      <td>0</td>\n",
              "    </tr>\n",
              "    <tr>\n",
              "      <th>2</th>\n",
              "      <td>20090109393214576</td>\n",
              "      <td>2</td>\n",
              "      <td>3614</td>\n",
              "      <td>person_click</td>\n",
              "      <td>basic</td>\n",
              "      <td>0</td>\n",
              "      <td>NaN</td>\n",
              "      <td>-418.991405</td>\n",
              "      <td>47.685314</td>\n",
              "      <td>375.0</td>\n",
              "      <td>...</td>\n",
              "      <td>NaN</td>\n",
              "      <td>Just talking to Teddy.</td>\n",
              "      <td>gramps</td>\n",
              "      <td>tunic.historicalsociety.closet</td>\n",
              "      <td>tunic.historicalsociety.closet.gramps.intro_0_...</td>\n",
              "      <td>0</td>\n",
              "      <td>0</td>\n",
              "      <td>1</td>\n",
              "      <td>0-4</td>\n",
              "      <td>0</td>\n",
              "    </tr>\n",
              "    <tr>\n",
              "      <th>3</th>\n",
              "      <td>20090109393214576</td>\n",
              "      <td>3</td>\n",
              "      <td>5330</td>\n",
              "      <td>person_click</td>\n",
              "      <td>basic</td>\n",
              "      <td>0</td>\n",
              "      <td>NaN</td>\n",
              "      <td>-110.991405</td>\n",
              "      <td>-57.314686</td>\n",
              "      <td>683.0</td>\n",
              "      <td>...</td>\n",
              "      <td>NaN</td>\n",
              "      <td>I gotta run to my meeting!</td>\n",
              "      <td>gramps</td>\n",
              "      <td>tunic.historicalsociety.closet</td>\n",
              "      <td>tunic.historicalsociety.closet.gramps.intro_0_...</td>\n",
              "      <td>0</td>\n",
              "      <td>0</td>\n",
              "      <td>1</td>\n",
              "      <td>0-4</td>\n",
              "      <td>0</td>\n",
              "    </tr>\n",
              "    <tr>\n",
              "      <th>4</th>\n",
              "      <td>20090109393214576</td>\n",
              "      <td>4</td>\n",
              "      <td>6397</td>\n",
              "      <td>person_click</td>\n",
              "      <td>basic</td>\n",
              "      <td>0</td>\n",
              "      <td>NaN</td>\n",
              "      <td>-110.991405</td>\n",
              "      <td>-57.314686</td>\n",
              "      <td>683.0</td>\n",
              "      <td>...</td>\n",
              "      <td>NaN</td>\n",
              "      <td>Can I come, Gramps?</td>\n",
              "      <td>gramps</td>\n",
              "      <td>tunic.historicalsociety.closet</td>\n",
              "      <td>tunic.historicalsociety.closet.gramps.intro_0_...</td>\n",
              "      <td>0</td>\n",
              "      <td>0</td>\n",
              "      <td>1</td>\n",
              "      <td>0-4</td>\n",
              "      <td>0</td>\n",
              "    </tr>\n",
              "    <tr>\n",
              "      <th>...</th>\n",
              "      <td>...</td>\n",
              "      <td>...</td>\n",
              "      <td>...</td>\n",
              "      <td>...</td>\n",
              "      <td>...</td>\n",
              "      <td>...</td>\n",
              "      <td>...</td>\n",
              "      <td>...</td>\n",
              "      <td>...</td>\n",
              "      <td>...</td>\n",
              "      <td>...</td>\n",
              "      <td>...</td>\n",
              "      <td>...</td>\n",
              "      <td>...</td>\n",
              "      <td>...</td>\n",
              "      <td>...</td>\n",
              "      <td>...</td>\n",
              "      <td>...</td>\n",
              "      <td>...</td>\n",
              "      <td>...</td>\n",
              "      <td>...</td>\n",
              "    </tr>\n",
              "    <tr>\n",
              "      <th>3723</th>\n",
              "      <td>20090312331414616</td>\n",
              "      <td>1001</td>\n",
              "      <td>1581679</td>\n",
              "      <td>map_hover</td>\n",
              "      <td>basic</td>\n",
              "      <td>22</td>\n",
              "      <td>NaN</td>\n",
              "      <td>NaN</td>\n",
              "      <td>NaN</td>\n",
              "      <td>NaN</td>\n",
              "      <td>...</td>\n",
              "      <td>484.0</td>\n",
              "      <td>NaN</td>\n",
              "      <td>tunic.wildlife</td>\n",
              "      <td>tunic.historicalsociety.entry</td>\n",
              "      <td>NaN</td>\n",
              "      <td>0</td>\n",
              "      <td>0</td>\n",
              "      <td>1</td>\n",
              "      <td>13-22</td>\n",
              "      <td>8</td>\n",
              "    </tr>\n",
              "    <tr>\n",
              "      <th>3724</th>\n",
              "      <td>20090312331414616</td>\n",
              "      <td>1002</td>\n",
              "      <td>1583044</td>\n",
              "      <td>map_hover</td>\n",
              "      <td>basic</td>\n",
              "      <td>22</td>\n",
              "      <td>NaN</td>\n",
              "      <td>NaN</td>\n",
              "      <td>NaN</td>\n",
              "      <td>NaN</td>\n",
              "      <td>...</td>\n",
              "      <td>783.0</td>\n",
              "      <td>NaN</td>\n",
              "      <td>tunic.capitol_2</td>\n",
              "      <td>tunic.historicalsociety.entry</td>\n",
              "      <td>NaN</td>\n",
              "      <td>0</td>\n",
              "      <td>0</td>\n",
              "      <td>1</td>\n",
              "      <td>13-22</td>\n",
              "      <td>8</td>\n",
              "    </tr>\n",
              "    <tr>\n",
              "      <th>3725</th>\n",
              "      <td>20090312331414616</td>\n",
              "      <td>1003</td>\n",
              "      <td>1583410</td>\n",
              "      <td>map_click</td>\n",
              "      <td>undefined</td>\n",
              "      <td>22</td>\n",
              "      <td>NaN</td>\n",
              "      <td>483.726363</td>\n",
              "      <td>-3.880047</td>\n",
              "      <td>456.0</td>\n",
              "      <td>...</td>\n",
              "      <td>NaN</td>\n",
              "      <td>NaN</td>\n",
              "      <td>tunic.capitol_2</td>\n",
              "      <td>tunic.historicalsociety.entry</td>\n",
              "      <td>NaN</td>\n",
              "      <td>0</td>\n",
              "      <td>0</td>\n",
              "      <td>1</td>\n",
              "      <td>13-22</td>\n",
              "      <td>8</td>\n",
              "    </tr>\n",
              "    <tr>\n",
              "      <th>3726</th>\n",
              "      <td>20090312331414616</td>\n",
              "      <td>1004</td>\n",
              "      <td>1585841</td>\n",
              "      <td>navigate_click</td>\n",
              "      <td>undefined</td>\n",
              "      <td>22</td>\n",
              "      <td>NaN</td>\n",
              "      <td>192.372139</td>\n",
              "      <td>38.216178</td>\n",
              "      <td>383.0</td>\n",
              "      <td>...</td>\n",
              "      <td>NaN</td>\n",
              "      <td>NaN</td>\n",
              "      <td>chap4_finale_c</td>\n",
              "      <td>tunic.capitol_2.hall</td>\n",
              "      <td>NaN</td>\n",
              "      <td>0</td>\n",
              "      <td>0</td>\n",
              "      <td>1</td>\n",
              "      <td>13-22</td>\n",
              "      <td>8</td>\n",
              "    </tr>\n",
              "    <tr>\n",
              "      <th>3727</th>\n",
              "      <td>20090312331414616</td>\n",
              "      <td>1005</td>\n",
              "      <td>1587810</td>\n",
              "      <td>checkpoint</td>\n",
              "      <td>basic</td>\n",
              "      <td>22</td>\n",
              "      <td>NaN</td>\n",
              "      <td>NaN</td>\n",
              "      <td>NaN</td>\n",
              "      <td>NaN</td>\n",
              "      <td>...</td>\n",
              "      <td>NaN</td>\n",
              "      <td>NaN</td>\n",
              "      <td>chap4_finale_c</td>\n",
              "      <td>tunic.capitol_2.hall</td>\n",
              "      <td>NaN</td>\n",
              "      <td>0</td>\n",
              "      <td>0</td>\n",
              "      <td>1</td>\n",
              "      <td>13-22</td>\n",
              "      <td>8</td>\n",
              "    </tr>\n",
              "  </tbody>\n",
              "</table>\n",
              "<p>3728 rows × 21 columns</p>\n",
              "</div>\n",
              "      <button class=\"colab-df-convert\" onclick=\"convertToInteractive('df-e63ba5d8-b171-4605-b0a3-74b10c0f1698')\"\n",
              "              title=\"Convert this dataframe to an interactive table.\"\n",
              "              style=\"display:none;\">\n",
              "        \n",
              "  <svg xmlns=\"http://www.w3.org/2000/svg\" height=\"24px\"viewBox=\"0 0 24 24\"\n",
              "       width=\"24px\">\n",
              "    <path d=\"M0 0h24v24H0V0z\" fill=\"none\"/>\n",
              "    <path d=\"M18.56 5.44l.94 2.06.94-2.06 2.06-.94-2.06-.94-.94-2.06-.94 2.06-2.06.94zm-11 1L8.5 8.5l.94-2.06 2.06-.94-2.06-.94L8.5 2.5l-.94 2.06-2.06.94zm10 10l.94 2.06.94-2.06 2.06-.94-2.06-.94-.94-2.06-.94 2.06-2.06.94z\"/><path d=\"M17.41 7.96l-1.37-1.37c-.4-.4-.92-.59-1.43-.59-.52 0-1.04.2-1.43.59L10.3 9.45l-7.72 7.72c-.78.78-.78 2.05 0 2.83L4 21.41c.39.39.9.59 1.41.59.51 0 1.02-.2 1.41-.59l7.78-7.78 2.81-2.81c.8-.78.8-2.07 0-2.86zM5.41 20L4 18.59l7.72-7.72 1.47 1.35L5.41 20z\"/>\n",
              "  </svg>\n",
              "      </button>\n",
              "      \n",
              "  <style>\n",
              "    .colab-df-container {\n",
              "      display:flex;\n",
              "      flex-wrap:wrap;\n",
              "      gap: 12px;\n",
              "    }\n",
              "\n",
              "    .colab-df-convert {\n",
              "      background-color: #E8F0FE;\n",
              "      border: none;\n",
              "      border-radius: 50%;\n",
              "      cursor: pointer;\n",
              "      display: none;\n",
              "      fill: #1967D2;\n",
              "      height: 32px;\n",
              "      padding: 0 0 0 0;\n",
              "      width: 32px;\n",
              "    }\n",
              "\n",
              "    .colab-df-convert:hover {\n",
              "      background-color: #E2EBFA;\n",
              "      box-shadow: 0px 1px 2px rgba(60, 64, 67, 0.3), 0px 1px 3px 1px rgba(60, 64, 67, 0.15);\n",
              "      fill: #174EA6;\n",
              "    }\n",
              "\n",
              "    [theme=dark] .colab-df-convert {\n",
              "      background-color: #3B4455;\n",
              "      fill: #D2E3FC;\n",
              "    }\n",
              "\n",
              "    [theme=dark] .colab-df-convert:hover {\n",
              "      background-color: #434B5C;\n",
              "      box-shadow: 0px 1px 3px 1px rgba(0, 0, 0, 0.15);\n",
              "      filter: drop-shadow(0px 1px 2px rgba(0, 0, 0, 0.3));\n",
              "      fill: #FFFFFF;\n",
              "    }\n",
              "  </style>\n",
              "\n",
              "      <script>\n",
              "        const buttonEl =\n",
              "          document.querySelector('#df-e63ba5d8-b171-4605-b0a3-74b10c0f1698 button.colab-df-convert');\n",
              "        buttonEl.style.display =\n",
              "          google.colab.kernel.accessAllowed ? 'block' : 'none';\n",
              "\n",
              "        async function convertToInteractive(key) {\n",
              "          const element = document.querySelector('#df-e63ba5d8-b171-4605-b0a3-74b10c0f1698');\n",
              "          const dataTable =\n",
              "            await google.colab.kernel.invokeFunction('convertToInteractive',\n",
              "                                                     [key], {});\n",
              "          if (!dataTable) return;\n",
              "\n",
              "          const docLinkHtml = 'Like what you see? Visit the ' +\n",
              "            '<a target=\"_blank\" href=https://colab.research.google.com/notebooks/data_table.ipynb>data table notebook</a>'\n",
              "            + ' to learn more about interactive tables.';\n",
              "          element.innerHTML = '';\n",
              "          dataTable['output_type'] = 'display_data';\n",
              "          await google.colab.output.renderOutput(dataTable, element);\n",
              "          const docLink = document.createElement('div');\n",
              "          docLink.innerHTML = docLinkHtml;\n",
              "          element.appendChild(docLink);\n",
              "        }\n",
              "      </script>\n",
              "    </div>\n",
              "  </div>\n",
              "  "
            ]
          },
          "metadata": {},
          "execution_count": 12
        }
      ]
    },
    {
      "cell_type": "code",
      "source": [
        "df.hist()"
      ],
      "metadata": {
        "colab": {
          "base_uri": "https://localhost:8080/",
          "height": 487
        },
        "id": "ThrjGawGcmU9",
        "outputId": "756d64b2-389b-4a75-e0c4-1e6d145eaa9d"
      },
      "execution_count": null,
      "outputs": [
        {
          "output_type": "execute_result",
          "data": {
            "text/plain": [
              "array([[<Axes: title={'center': 'correct'}>,\n",
              "        <Axes: title={'center': 'session_level'}>]], dtype=object)"
            ]
          },
          "metadata": {},
          "execution_count": 24
        },
        {
          "output_type": "display_data",
          "data": {
            "text/plain": [
              "<Figure size 640x480 with 2 Axes>"
            ],
            "image/png": "[encoded data removed]"
          },
          "metadata": {}
        }
      ]
    },
    {
      "cell_type": "code",
      "source": [
        "dataset"
      ],
      "metadata": {
        "colab": {
          "base_uri": "https://localhost:8080/",
          "height": 661
        },
        "id": "_yCzjDT2cjH7",
        "outputId": "dc669af0-6a60-4a5a-fdbf-bd7d573af7b6"
      },
      "execution_count": null,
      "outputs": [
        {
          "output_type": "execute_result",
          "data": {
            "text/plain": [
              "             session_id  index  elapsed_time      event_name       name  \\\n",
              "0     20090109393214576      0             0  cutscene_click      basic   \n",
              "1     20090109393214576      1          1965    person_click      basic   \n",
              "2     20090109393214576      2          3614    person_click      basic   \n",
              "3     20090109393214576      3          5330    person_click      basic   \n",
              "4     20090109393214576      4          6397    person_click      basic   \n",
              "...                 ...    ...           ...             ...        ...   \n",
              "3723  20090312331414616   1001       1581679       map_hover      basic   \n",
              "3724  20090312331414616   1002       1583044       map_hover      basic   \n",
              "3725  20090312331414616   1003       1583410       map_click  undefined   \n",
              "3726  20090312331414616   1004       1585841  navigate_click  undefined   \n",
              "3727  20090312331414616   1005       1587810      checkpoint      basic   \n",
              "\n",
              "      level  page  room_coor_x  room_coor_y  screen_coor_x  ...  \\\n",
              "0         0   NaN  -413.991405    75.685314          380.0  ...   \n",
              "1         0   NaN  -105.991405   -63.314686          688.0  ...   \n",
              "2         0   NaN  -418.991405    47.685314          375.0  ...   \n",
              "3         0   NaN  -110.991405   -57.314686          683.0  ...   \n",
              "4         0   NaN  -110.991405   -57.314686          683.0  ...   \n",
              "...     ...   ...          ...          ...            ...  ...   \n",
              "3723     22   NaN          NaN          NaN            NaN  ...   \n",
              "3724     22   NaN          NaN          NaN            NaN  ...   \n",
              "3725     22   NaN   483.726363    -3.880047          456.0  ...   \n",
              "3726     22   NaN   192.372139    38.216178          383.0  ...   \n",
              "3727     22   NaN          NaN          NaN            NaN  ...   \n",
              "\n",
              "      hover_duration                           text             fqid  \\\n",
              "0                NaN                      undefined            intro   \n",
              "1                NaN  Whatcha doing over there, Jo?           gramps   \n",
              "2                NaN         Just talking to Teddy.           gramps   \n",
              "3                NaN     I gotta run to my meeting!           gramps   \n",
              "4                NaN            Can I come, Gramps?           gramps   \n",
              "...              ...                            ...              ...   \n",
              "3723           484.0                            NaN   tunic.wildlife   \n",
              "3724           783.0                            NaN  tunic.capitol_2   \n",
              "3725             NaN                            NaN  tunic.capitol_2   \n",
              "3726             NaN                            NaN   chap4_finale_c   \n",
              "3727             NaN                            NaN   chap4_finale_c   \n",
              "\n",
              "                           room_fqid  \\\n",
              "0     tunic.historicalsociety.closet   \n",
              "1     tunic.historicalsociety.closet   \n",
              "2     tunic.historicalsociety.closet   \n",
              "3     tunic.historicalsociety.closet   \n",
              "4     tunic.historicalsociety.closet   \n",
              "...                              ...   \n",
              "3723   tunic.historicalsociety.entry   \n",
              "3724   tunic.historicalsociety.entry   \n",
              "3725   tunic.historicalsociety.entry   \n",
              "3726            tunic.capitol_2.hall   \n",
              "3727            tunic.capitol_2.hall   \n",
              "\n",
              "                                              text_fqid fullscreen  hq  music  \\\n",
              "0                  tunic.historicalsociety.closet.intro          0   0      1   \n",
              "1     tunic.historicalsociety.closet.gramps.intro_0_...          0   0      1   \n",
              "2     tunic.historicalsociety.closet.gramps.intro_0_...          0   0      1   \n",
              "3     tunic.historicalsociety.closet.gramps.intro_0_...          0   0      1   \n",
              "4     tunic.historicalsociety.closet.gramps.intro_0_...          0   0      1   \n",
              "...                                                 ...        ...  ..    ...   \n",
              "3723                                                NaN          0   0      1   \n",
              "3724                                                NaN          0   0      1   \n",
              "3725                                                NaN          0   0      1   \n",
              "3726                                                NaN          0   0      1   \n",
              "3727                                                NaN          0   0      1   \n",
              "\n",
              "      level_group session_level  \n",
              "0             0-4             0  \n",
              "1             0-4             0  \n",
              "2             0-4             0  \n",
              "3             0-4             0  \n",
              "4             0-4             0  \n",
              "...           ...           ...  \n",
              "3723        13-22             8  \n",
              "3724        13-22             8  \n",
              "3725        13-22             8  \n",
              "3726        13-22             8  \n",
              "3727        13-22             8  \n",
              "\n",
              "[3728 rows x 21 columns]"
            ],
            "text/html": [
              "\n",
              "  <div id=\"df-017d363d-480c-47d4-97b9-ed786e557684\">\n",
              "    <div class=\"colab-df-container\">\n",
              "      <div>\n",
              "<style scoped>\n",
              "    .dataframe tbody tr th:only-of-type {\n",
              "        vertical-align: middle;\n",
              "    }\n",
              "\n",
              "    .dataframe tbody tr th {\n",
              "        vertical-align: top;\n",
              "    }\n",
              "\n",
              "    .dataframe thead th {\n",
              "        text-align: right;\n",
              "    }\n",
              "</style>\n",
              "<table border=\"1\" class=\"dataframe\">\n",
              "  <thead>\n",
              "    <tr style=\"text-align: right;\">\n",
              "      <th></th>\n",
              "      <th>session_id</th>\n",
              "      <th>index</th>\n",
              "      <th>elapsed_time</th>\n",
              "      <th>event_name</th>\n",
              "      <th>name</th>\n",
              "      <th>level</th>\n",
              "      <th>page</th>\n",
              "      <th>room_coor_x</th>\n",
              "      <th>room_coor_y</th>\n",
              "      <th>screen_coor_x</th>\n",
              "      <th>...</th>\n",
              "      <th>hover_duration</th>\n",
              "      <th>text</th>\n",
              "      <th>fqid</th>\n",
              "      <th>room_fqid</th>\n",
              "      <th>text_fqid</th>\n",
              "      <th>fullscreen</th>\n",
              "      <th>hq</th>\n",
              "      <th>music</th>\n",
              "      <th>level_group</th>\n",
              "      <th>session_level</th>\n",
              "    </tr>\n",
              "  </thead>\n",
              "  <tbody>\n",
              "    <tr>\n",
              "      <th>0</th>\n",
              "      <td>20090109393214576</td>\n",
              "      <td>0</td>\n",
              "      <td>0</td>\n",
              "      <td>cutscene_click</td>\n",
              "      <td>basic</td>\n",
              "      <td>0</td>\n",
              "      <td>NaN</td>\n",
              "      <td>-413.991405</td>\n",
              "      <td>75.685314</td>\n",
              "      <td>380.0</td>\n",
              "      <td>...</td>\n",
              "      <td>NaN</td>\n",
              "      <td>undefined</td>\n",
              "      <td>intro</td>\n",
              "      <td>tunic.historicalsociety.closet</td>\n",
              "      <td>tunic.historicalsociety.closet.intro</td>\n",
              "      <td>0</td>\n",
              "      <td>0</td>\n",
              "      <td>1</td>\n",
              "      <td>0-4</td>\n",
              "      <td>0</td>\n",
              "    </tr>\n",
              "    <tr>\n",
              "      <th>1</th>\n",
              "      <td>20090109393214576</td>\n",
              "      <td>1</td>\n",
              "      <td>1965</td>\n",
              "      <td>person_click</td>\n",
              "      <td>basic</td>\n",
              "      <td>0</td>\n",
              "      <td>NaN</td>\n",
              "      <td>-105.991405</td>\n",
              "      <td>-63.314686</td>\n",
              "      <td>688.0</td>\n",
              "      <td>...</td>\n",
              "      <td>NaN</td>\n",
              "      <td>Whatcha doing over there, Jo?</td>\n",
              "      <td>gramps</td>\n",
              "      <td>tunic.historicalsociety.closet</td>\n",
              "      <td>tunic.historicalsociety.closet.gramps.intro_0_...</td>\n",
              "      <td>0</td>\n",
              "      <td>0</td>\n",
              "      <td>1</td>\n",
              "      <td>0-4</td>\n",
              "      <td>0</td>\n",
              "    </tr>\n",
              "    <tr>\n",
              "      <th>2</th>\n",
              "      <td>20090109393214576</td>\n",
              "      <td>2</td>\n",
              "      <td>3614</td>\n",
              "      <td>person_click</td>\n",
              "      <td>basic</td>\n",
              "      <td>0</td>\n",
              "      <td>NaN</td>\n",
              "      <td>-418.991405</td>\n",
              "      <td>47.685314</td>\n",
              "      <td>375.0</td>\n",
              "      <td>...</td>\n",
              "      <td>NaN</td>\n",
              "      <td>Just talking to Teddy.</td>\n",
              "      <td>gramps</td>\n",
              "      <td>tunic.historicalsociety.closet</td>\n",
              "      <td>tunic.historicalsociety.closet.gramps.intro_0_...</td>\n",
              "      <td>0</td>\n",
              "      <td>0</td>\n",
              "      <td>1</td>\n",
              "      <td>0-4</td>\n",
              "      <td>0</td>\n",
              "    </tr>\n",
              "    <tr>\n",
              "      <th>3</th>\n",
              "      <td>20090109393214576</td>\n",
              "      <td>3</td>\n",
              "      <td>5330</td>\n",
              "      <td>person_click</td>\n",
              "      <td>basic</td>\n",
              "      <td>0</td>\n",
              "      <td>NaN</td>\n",
              "      <td>-110.991405</td>\n",
              "      <td>-57.314686</td>\n",
              "      <td>683.0</td>\n",
              "      <td>...</td>\n",
              "      <td>NaN</td>\n",
              "      <td>I gotta run to my meeting!</td>\n",
              "      <td>gramps</td>\n",
              "      <td>tunic.historicalsociety.closet</td>\n",
              "      <td>tunic.historicalsociety.closet.gramps.intro_0_...</td>\n",
              "      <td>0</td>\n",
              "      <td>0</td>\n",
              "      <td>1</td>\n",
              "      <td>0-4</td>\n",
              "      <td>0</td>\n",
              "    </tr>\n",
              "    <tr>\n",
              "      <th>4</th>\n",
              "      <td>20090109393214576</td>\n",
              "      <td>4</td>\n",
              "      <td>6397</td>\n",
              "      <td>person_click</td>\n",
              "      <td>basic</td>\n",
              "      <td>0</td>\n",
              "      <td>NaN</td>\n",
              "      <td>-110.991405</td>\n",
              "      <td>-57.314686</td>\n",
              "      <td>683.0</td>\n",
              "      <td>...</td>\n",
              "      <td>NaN</td>\n",
              "      <td>Can I come, Gramps?</td>\n",
              "      <td>gramps</td>\n",
              "      <td>tunic.historicalsociety.closet</td>\n",
              "      <td>tunic.historicalsociety.closet.gramps.intro_0_...</td>\n",
              "      <td>0</td>\n",
              "      <td>0</td>\n",
              "      <td>1</td>\n",
              "      <td>0-4</td>\n",
              "      <td>0</td>\n",
              "    </tr>\n",
              "    <tr>\n",
              "      <th>...</th>\n",
              "      <td>...</td>\n",
              "      <td>...</td>\n",
              "      <td>...</td>\n",
              "      <td>...</td>\n",
              "      <td>...</td>\n",
              "      <td>...</td>\n",
              "      <td>...</td>\n",
              "      <td>...</td>\n",
              "      <td>...</td>\n",
              "      <td>...</td>\n",
              "      <td>...</td>\n",
              "      <td>...</td>\n",
              "      <td>...</td>\n",
              "      <td>...</td>\n",
              "      <td>...</td>\n",
              "      <td>...</td>\n",
              "      <td>...</td>\n",
              "      <td>...</td>\n",
              "      <td>...</td>\n",
              "      <td>...</td>\n",
              "      <td>...</td>\n",
              "    </tr>\n",
              "    <tr>\n",
              "      <th>3723</th>\n",
              "      <td>20090312331414616</td>\n",
              "      <td>1001</td>\n",
              "      <td>1581679</td>\n",
              "      <td>map_hover</td>\n",
              "      <td>basic</td>\n",
              "      <td>22</td>\n",
              "      <td>NaN</td>\n",
              "      <td>NaN</td>\n",
              "      <td>NaN</td>\n",
              "      <td>NaN</td>\n",
              "      <td>...</td>\n",
              "      <td>484.0</td>\n",
              "      <td>NaN</td>\n",
              "      <td>tunic.wildlife</td>\n",
              "      <td>tunic.historicalsociety.entry</td>\n",
              "      <td>NaN</td>\n",
              "      <td>0</td>\n",
              "      <td>0</td>\n",
              "      <td>1</td>\n",
              "      <td>13-22</td>\n",
              "      <td>8</td>\n",
              "    </tr>\n",
              "    <tr>\n",
              "      <th>3724</th>\n",
              "      <td>20090312331414616</td>\n",
              "      <td>1002</td>\n",
              "      <td>1583044</td>\n",
              "      <td>map_hover</td>\n",
              "      <td>basic</td>\n",
              "      <td>22</td>\n",
              "      <td>NaN</td>\n",
              "      <td>NaN</td>\n",
              "      <td>NaN</td>\n",
              "      <td>NaN</td>\n",
              "      <td>...</td>\n",
              "      <td>783.0</td>\n",
              "      <td>NaN</td>\n",
              "      <td>tunic.capitol_2</td>\n",
              "      <td>tunic.historicalsociety.entry</td>\n",
              "      <td>NaN</td>\n",
              "      <td>0</td>\n",
              "      <td>0</td>\n",
              "      <td>1</td>\n",
              "      <td>13-22</td>\n",
              "      <td>8</td>\n",
              "    </tr>\n",
              "    <tr>\n",
              "      <th>3725</th>\n",
              "      <td>20090312331414616</td>\n",
              "      <td>1003</td>\n",
              "      <td>1583410</td>\n",
              "      <td>map_click</td>\n",
              "      <td>undefined</td>\n",
              "      <td>22</td>\n",
              "      <td>NaN</td>\n",
              "      <td>483.726363</td>\n",
              "      <td>-3.880047</td>\n",
              "      <td>456.0</td>\n",
              "      <td>...</td>\n",
              "      <td>NaN</td>\n",
              "      <td>NaN</td>\n",
              "      <td>tunic.capitol_2</td>\n",
              "      <td>tunic.historicalsociety.entry</td>\n",
              "      <td>NaN</td>\n",
              "      <td>0</td>\n",
              "      <td>0</td>\n",
              "      <td>1</td>\n",
              "      <td>13-22</td>\n",
              "      <td>8</td>\n",
              "    </tr>\n",
              "    <tr>\n",
              "      <th>3726</th>\n",
              "      <td>20090312331414616</td>\n",
              "      <td>1004</td>\n",
              "      <td>1585841</td>\n",
              "      <td>navigate_click</td>\n",
              "      <td>undefined</td>\n",
              "      <td>22</td>\n",
              "      <td>NaN</td>\n",
              "      <td>192.372139</td>\n",
              "      <td>38.216178</td>\n",
              "      <td>383.0</td>\n",
              "      <td>...</td>\n",
              "      <td>NaN</td>\n",
              "      <td>NaN</td>\n",
              "      <td>chap4_finale_c</td>\n",
              "      <td>tunic.capitol_2.hall</td>\n",
              "      <td>NaN</td>\n",
              "      <td>0</td>\n",
              "      <td>0</td>\n",
              "      <td>1</td>\n",
              "      <td>13-22</td>\n",
              "      <td>8</td>\n",
              "    </tr>\n",
              "    <tr>\n",
              "      <th>3727</th>\n",
              "      <td>20090312331414616</td>\n",
              "      <td>1005</td>\n",
              "      <td>1587810</td>\n",
              "      <td>checkpoint</td>\n",
              "      <td>basic</td>\n",
              "      <td>22</td>\n",
              "      <td>NaN</td>\n",
              "      <td>NaN</td>\n",
              "      <td>NaN</td>\n",
              "      <td>NaN</td>\n",
              "      <td>...</td>\n",
              "      <td>NaN</td>\n",
              "      <td>NaN</td>\n",
              "      <td>chap4_finale_c</td>\n",
              "      <td>tunic.capitol_2.hall</td>\n",
              "      <td>NaN</td>\n",
              "      <td>0</td>\n",
              "      <td>0</td>\n",
              "      <td>1</td>\n",
              "      <td>13-22</td>\n",
              "      <td>8</td>\n",
              "    </tr>\n",
              "  </tbody>\n",
              "</table>\n",
              "<p>3728 rows × 21 columns</p>\n",
              "</div>\n",
              "      <button class=\"colab-df-convert\" onclick=\"convertToInteractive('df-017d363d-480c-47d4-97b9-ed786e557684')\"\n",
              "              title=\"Convert this dataframe to an interactive table.\"\n",
              "              style=\"display:none;\">\n",
              "        \n",
              "  <svg xmlns=\"http://www.w3.org/2000/svg\" height=\"24px\"viewBox=\"0 0 24 24\"\n",
              "       width=\"24px\">\n",
              "    <path d=\"M0 0h24v24H0V0z\" fill=\"none\"/>\n",
              "    <path d=\"M18.56 5.44l.94 2.06.94-2.06 2.06-.94-2.06-.94-.94-2.06-.94 2.06-2.06.94zm-11 1L8.5 8.5l.94-2.06 2.06-.94-2.06-.94L8.5 2.5l-.94 2.06-2.06.94zm10 10l.94 2.06.94-2.06 2.06-.94-2.06-.94-.94-2.06-.94 2.06-2.06.94z\"/><path d=\"M17.41 7.96l-1.37-1.37c-.4-.4-.92-.59-1.43-.59-.52 0-1.04.2-1.43.59L10.3 9.45l-7.72 7.72c-.78.78-.78 2.05 0 2.83L4 21.41c.39.39.9.59 1.41.59.51 0 1.02-.2 1.41-.59l7.78-7.78 2.81-2.81c.8-.78.8-2.07 0-2.86zM5.41 20L4 18.59l7.72-7.72 1.47 1.35L5.41 20z\"/>\n",
              "  </svg>\n",
              "      </button>\n",
              "      \n",
              "  <style>\n",
              "    .colab-df-container {\n",
              "      display:flex;\n",
              "      flex-wrap:wrap;\n",
              "      gap: 12px;\n",
              "    }\n",
              "\n",
              "    .colab-df-convert {\n",
              "      background-color: #E8F0FE;\n",
              "      border: none;\n",
              "      border-radius: 50%;\n",
              "      cursor: pointer;\n",
              "      display: none;\n",
              "      fill: #1967D2;\n",
              "      height: 32px;\n",
              "      padding: 0 0 0 0;\n",
              "      width: 32px;\n",
              "    }\n",
              "\n",
              "    .colab-df-convert:hover {\n",
              "      background-color: #E2EBFA;\n",
              "      box-shadow: 0px 1px 2px rgba(60, 64, 67, 0.3), 0px 1px 3px 1px rgba(60, 64, 67, 0.15);\n",
              "      fill: #174EA6;\n",
              "    }\n",
              "\n",
              "    [theme=dark] .colab-df-convert {\n",
              "      background-color: #3B4455;\n",
              "      fill: #D2E3FC;\n",
              "    }\n",
              "\n",
              "    [theme=dark] .colab-df-convert:hover {\n",
              "      background-color: #434B5C;\n",
              "      box-shadow: 0px 1px 3px 1px rgba(0, 0, 0, 0.15);\n",
              "      filter: drop-shadow(0px 1px 2px rgba(0, 0, 0, 0.3));\n",
              "      fill: #FFFFFF;\n",
              "    }\n",
              "  </style>\n",
              "\n",
              "      <script>\n",
              "        const buttonEl =\n",
              "          document.querySelector('#df-017d363d-480c-47d4-97b9-ed786e557684 button.colab-df-convert');\n",
              "        buttonEl.style.display =\n",
              "          google.colab.kernel.accessAllowed ? 'block' : 'none';\n",
              "\n",
              "        async function convertToInteractive(key) {\n",
              "          const element = document.querySelector('#df-017d363d-480c-47d4-97b9-ed786e557684');\n",
              "          const dataTable =\n",
              "            await google.colab.kernel.invokeFunction('convertToInteractive',\n",
              "                                                     [key], {});\n",
              "          if (!dataTable) return;\n",
              "\n",
              "          const docLinkHtml = 'Like what you see? Visit the ' +\n",
              "            '<a target=\"_blank\" href=https://colab.research.google.com/notebooks/data_table.ipynb>data table notebook</a>'\n",
              "            + ' to learn more about interactive tables.';\n",
              "          element.innerHTML = '';\n",
              "          dataTable['output_type'] = 'display_data';\n",
              "          await google.colab.output.renderOutput(dataTable, element);\n",
              "          const docLink = document.createElement('div');\n",
              "          docLink.innerHTML = docLinkHtml;\n",
              "          element.appendChild(docLink);\n",
              "        }\n",
              "      </script>\n",
              "    </div>\n",
              "  </div>\n",
              "  "
            ]
          },
          "metadata": {},
          "execution_count": 22
        }
      ]
    },
    {
      "cell_type": "code",
      "source": [
        "dataset.hist()"
      ],
      "metadata": {
        "colab": {
          "base_uri": "https://localhost:8080/",
          "height": 712
        },
        "id": "o-y9D1jLcpcG",
        "outputId": "092beffd-ecec-4355-fc31-8e4695f44cfa"
      },
      "execution_count": null,
      "outputs": [
        {
          "output_type": "execute_result",
          "data": {
            "text/plain": [
              "array([[<Axes: title={'center': 'session_id'}>,\n",
              "        <Axes: title={'center': 'index'}>,\n",
              "        <Axes: title={'center': 'elapsed_time'}>,\n",
              "        <Axes: title={'center': 'level'}>],\n",
              "       [<Axes: title={'center': 'page'}>,\n",
              "        <Axes: title={'center': 'room_coor_x'}>,\n",
              "        <Axes: title={'center': 'room_coor_y'}>,\n",
              "        <Axes: title={'center': 'screen_coor_x'}>],\n",
              "       [<Axes: title={'center': 'screen_coor_y'}>,\n",
              "        <Axes: title={'center': 'hover_duration'}>,\n",
              "        <Axes: title={'center': 'fullscreen'}>,\n",
              "        <Axes: title={'center': 'hq'}>],\n",
              "       [<Axes: title={'center': 'music'}>,\n",
              "        <Axes: title={'center': 'session_level'}>, <Axes: >, <Axes: >]],\n",
              "      dtype=object)"
            ]
          },
          "metadata": {},
          "execution_count": 25
        },
        {
          "output_type": "display_data",
          "data": {
            "text/plain": [
              "<Figure size 640x480 with 16 Axes>"
            ],
            "image/png": "[encoded data removed]"
          },
          "metadata": {}
        }
      ]
    },
    {
      "cell_type": "code",
      "source": [
        "dataset = pd.read_csv('test.csv')"
      ],
      "metadata": {
        "id": "0XPeLuZCY-aH"
      },
      "execution_count": null,
      "outputs": []
    },
    {
      "cell_type": "code",
      "source": [
        "dataset['session_id']"
      ],
      "metadata": {
        "colab": {
          "base_uri": "https://localhost:8080/"
        },
        "id": "D2yTeCyscxwo",
        "outputId": "9d0b33ae-fd21-4c4a-e3cc-6971853276a7"
      },
      "execution_count": null,
      "outputs": [
        {
          "output_type": "execute_result",
          "data": {
            "text/plain": [
              "0       20090109393214576\n",
              "1       20090109393214576\n",
              "2       20090109393214576\n",
              "3       20090109393214576\n",
              "4       20090109393214576\n",
              "              ...        \n",
              "3723    20090312331414616\n",
              "3724    20090312331414616\n",
              "3725    20090312331414616\n",
              "3726    20090312331414616\n",
              "3727    20090312331414616\n",
              "Name: session_id, Length: 3728, dtype: int64"
            ]
          },
          "metadata": {},
          "execution_count": 26
        }
      ]
    },
    {
      "cell_type": "code",
      "source": [
        "dataset['session_id'].hist()"
      ],
      "metadata": {
        "colab": {
          "base_uri": "https://localhost:8080/",
          "height": 465
        },
        "id": "ZzzfdZ00c3S3",
        "outputId": "27a51ec3-59d6-4288-e1ed-852ea87e998e"
      },
      "execution_count": null,
      "outputs": [
        {
          "output_type": "execute_result",
          "data": {
            "text/plain": [
              "<Axes: >"
            ]
          },
          "metadata": {},
          "execution_count": 27
        },
        {
          "output_type": "display_data",
          "data": {
            "text/plain": [
              "<Figure size 640x480 with 1 Axes>"
            ],
            "image/png": "[encoded data removed]"
          },
          "metadata": {}
        }
      ]
    },
    {
      "cell_type": "code",
      "source": [
        "data"
      ],
      "metadata": {
        "id": "mh_hp0RzdDcn"
      },
      "execution_count": null,
      "outputs": []
    },
    {
      "cell_type": "code",
      "source": [
        "dataset['index']"
      ],
      "metadata": {
        "colab": {
          "base_uri": "https://localhost:8080/"
        },
        "id": "0066O8oic-ST",
        "outputId": "0b5454dc-459e-4167-9eb0-59b90bc1c68b"
      },
      "execution_count": null,
      "outputs": [
        {
          "output_type": "execute_result",
          "data": {
            "text/plain": [
              "0          0\n",
              "1          1\n",
              "2          2\n",
              "3          3\n",
              "4          4\n",
              "        ... \n",
              "3723    1001\n",
              "3724    1002\n",
              "3725    1003\n",
              "3726    1004\n",
              "3727    1005\n",
              "Name: index, Length: 3728, dtype: int64"
            ]
          },
          "metadata": {},
          "execution_count": 28
        }
      ]
    },
    {
      "cell_type": "code",
      "source": [
        "dataset['index'].hist()"
      ],
      "metadata": {
        "colab": {
          "base_uri": "https://localhost:8080/",
          "height": 447
        },
        "id": "ynK1Bys0dP4D",
        "outputId": "2c194e11-3271-4ad4-e757-5cd0d235bf7b"
      },
      "execution_count": null,
      "outputs": [
        {
          "output_type": "execute_result",
          "data": {
            "text/plain": [
              "<Axes: >"
            ]
          },
          "metadata": {},
          "execution_count": 29
        },
        {
          "output_type": "display_data",
          "data": {
            "text/plain": [
              "<Figure size 640x480 with 1 Axes>"
            ],
            "image/png": "[encoded data removed]"
          },
          "metadata": {}
        }
      ]
    },
    {
      "cell_type": "code",
      "source": [
        "dataset['elapsed_time']"
      ],
      "metadata": {
        "colab": {
          "base_uri": "https://localhost:8080/"
        },
        "id": "oqbU90IEdWgY",
        "outputId": "936a11a4-834e-4b0d-b9eb-14621cbc37e8"
      },
      "execution_count": null,
      "outputs": [
        {
          "output_type": "execute_result",
          "data": {
            "text/plain": [
              "0             0\n",
              "1          1965\n",
              "2          3614\n",
              "3          5330\n",
              "4          6397\n",
              "         ...   \n",
              "3723    1581679\n",
              "3724    1583044\n",
              "3725    1583410\n",
              "3726    1585841\n",
              "3727    1587810\n",
              "Name: elapsed_time, Length: 3728, dtype: int64"
            ]
          },
          "metadata": {},
          "execution_count": 30
        }
      ]
    },
    {
      "cell_type": "code",
      "source": [
        "dataset['elapsed_time'].hist()"
      ],
      "metadata": {
        "colab": {
          "base_uri": "https://localhost:8080/",
          "height": 465
        },
        "id": "vFjLCWGvdk98",
        "outputId": "f2f5156c-560a-4e48-ff59-4e495b0e56e6"
      },
      "execution_count": null,
      "outputs": [
        {
          "output_type": "execute_result",
          "data": {
            "text/plain": [
              "<Axes: >"
            ]
          },
          "metadata": {},
          "execution_count": 34
        },
        {
          "output_type": "display_data",
          "data": {
            "text/plain": [
              "<Figure size 640x480 with 1 Axes>"
            ],
            "image/png": "[encoded data removed]"
          },
          "metadata": {}
        }
      ]
    },
    {
      "cell_type": "code",
      "source": [
        "dataset['level']"
      ],
      "metadata": {
        "colab": {
          "base_uri": "https://localhost:8080/"
        },
        "id": "ynBeljaEdx4q",
        "outputId": "e069abec-518c-4ff2-dda7-f66ff326ad89"
      },
      "execution_count": null,
      "outputs": [
        {
          "output_type": "execute_result",
          "data": {
            "text/plain": [
              "0        0\n",
              "1        0\n",
              "2        0\n",
              "3        0\n",
              "4        0\n",
              "        ..\n",
              "3723    22\n",
              "3724    22\n",
              "3725    22\n",
              "3726    22\n",
              "3727    22\n",
              "Name: level, Length: 3728, dtype: int64"
            ]
          },
          "metadata": {},
          "execution_count": 35
        }
      ]
    },
    {
      "cell_type": "code",
      "source": [
        "dataset['level'].hist()"
      ],
      "metadata": {
        "colab": {
          "base_uri": "https://localhost:8080/",
          "height": 447
        },
        "id": "wm2rtOcMd3bE",
        "outputId": "993137a5-12d7-4da1-de8c-01875f584196"
      },
      "execution_count": null,
      "outputs": [
        {
          "output_type": "execute_result",
          "data": {
            "text/plain": [
              "<Axes: >"
            ]
          },
          "metadata": {},
          "execution_count": 36
        },
        {
          "output_type": "display_data",
          "data": {
            "text/plain": [
              "<Figure size 640x480 with 1 Axes>"
            ],
            "image/png": "[encoded data removed]"
          },
          "metadata": {}
        }
      ]
    },
    {
      "cell_type": "code",
      "source": [
        "dataset['page']"
      ],
      "metadata": {
        "colab": {
          "base_uri": "https://localhost:8080/"
        },
        "id": "50K1zdyqdsph",
        "outputId": "f7561312-ad49-453e-ff38-8af075864c69"
      },
      "execution_count": null,
      "outputs": [
        {
          "output_type": "execute_result",
          "data": {
            "text/plain": [
              "0      NaN\n",
              "1      NaN\n",
              "2      NaN\n",
              "3      NaN\n",
              "4      NaN\n",
              "        ..\n",
              "3723   NaN\n",
              "3724   NaN\n",
              "3725   NaN\n",
              "3726   NaN\n",
              "3727   NaN\n",
              "Name: page, Length: 3728, dtype: float64"
            ]
          },
          "metadata": {},
          "execution_count": 37
        }
      ]
    },
    {
      "cell_type": "code",
      "source": [
        "dataset['page'].hist()"
      ],
      "metadata": {
        "colab": {
          "base_uri": "https://localhost:8080/",
          "height": 447
        },
        "id": "e-9wYRSgeBm_",
        "outputId": "17958fe2-444a-4fa3-c202-a7cd3ec2d823"
      },
      "execution_count": null,
      "outputs": [
        {
          "output_type": "execute_result",
          "data": {
            "text/plain": [
              "<Axes: >"
            ]
          },
          "metadata": {},
          "execution_count": 39
        },
        {
          "output_type": "display_data",
          "data": {
            "text/plain": [
              "<Figure size 640x480 with 1 Axes>"
            ],
            "image/png": "[encoded data removed]"
          },
          "metadata": {}
        }
      ]
    },
    {
      "cell_type": "code",
      "source": [
        "dataset['room_coor_x']"
      ],
      "metadata": {
        "colab": {
          "base_uri": "https://localhost:8080/"
        },
        "id": "4oT1xwqTeJ0V",
        "outputId": "9e4caeb3-2a67-4e46-e1a6-452a14f51b33"
      },
      "execution_count": null,
      "outputs": [
        {
          "output_type": "execute_result",
          "data": {
            "text/plain": [
              "0      -413.991405\n",
              "1      -105.991405\n",
              "2      -418.991405\n",
              "3      -110.991405\n",
              "4      -110.991405\n",
              "           ...    \n",
              "3723           NaN\n",
              "3724           NaN\n",
              "3725    483.726363\n",
              "3726    192.372139\n",
              "3727           NaN\n",
              "Name: room_coor_x, Length: 3728, dtype: float64"
            ]
          },
          "metadata": {},
          "execution_count": 40
        }
      ]
    },
    {
      "cell_type": "code",
      "source": [
        "dataset['room_coor_x'].hist()"
      ],
      "metadata": {
        "colab": {
          "base_uri": "https://localhost:8080/",
          "height": 447
        },
        "id": "BKNe9iHGeUss",
        "outputId": "2833fb4a-ec71-4dc4-c179-364386103324"
      },
      "execution_count": null,
      "outputs": [
        {
          "output_type": "execute_result",
          "data": {
            "text/plain": [
              "<Axes: >"
            ]
          },
          "metadata": {},
          "execution_count": 42
        },
        {
          "output_type": "display_data",
          "data": {
            "text/plain": [
              "<Figure size 640x480 with 1 Axes>"
            ],
            "image/png": "[encoded data removed]"
          },
          "metadata": {}
        }
      ]
    },
    {
      "cell_type": "code",
      "source": [
        "dataset['room_coor_y']"
      ],
      "metadata": {
        "colab": {
          "base_uri": "https://localhost:8080/"
        },
        "id": "ivjetx5uePQv",
        "outputId": "a58c506d-0385-423e-a882-9a48cb4cf269"
      },
      "execution_count": null,
      "outputs": [
        {
          "output_type": "execute_result",
          "data": {
            "text/plain": [
              "0       75.685314\n",
              "1      -63.314686\n",
              "2       47.685314\n",
              "3      -57.314686\n",
              "4      -57.314686\n",
              "          ...    \n",
              "3723          NaN\n",
              "3724          NaN\n",
              "3725    -3.880047\n",
              "3726    38.216178\n",
              "3727          NaN\n",
              "Name: room_coor_y, Length: 3728, dtype: float64"
            ]
          },
          "metadata": {},
          "execution_count": 41
        }
      ]
    },
    {
      "cell_type": "code",
      "source": [
        "dataset['room_coor_y'].hist()"
      ],
      "metadata": {
        "colab": {
          "base_uri": "https://localhost:8080/",
          "height": 447
        },
        "id": "VyKUq_zQefZv",
        "outputId": "73519d28-b5d9-4aa9-ae04-b5d94e13d7df"
      },
      "execution_count": null,
      "outputs": [
        {
          "output_type": "execute_result",
          "data": {
            "text/plain": [
              "<Axes: >"
            ]
          },
          "metadata": {},
          "execution_count": 44
        },
        {
          "output_type": "display_data",
          "data": {
            "text/plain": [
              "<Figure size 640x480 with 1 Axes>"
            ],
            "image/png": "[encoded data removed]"
          },
          "metadata": {}
        }
      ]
    },
    {
      "cell_type": "code",
      "source": [
        "dataset['screen_coor_x']"
      ],
      "metadata": {
        "colab": {
          "base_uri": "https://localhost:8080/"
        },
        "id": "2J_Y2uJWeo5p",
        "outputId": "8955f85a-42de-4541-98f8-24dd1b8348c1"
      },
      "execution_count": null,
      "outputs": [
        {
          "output_type": "execute_result",
          "data": {
            "text/plain": [
              "0       380.0\n",
              "1       688.0\n",
              "2       375.0\n",
              "3       683.0\n",
              "4       683.0\n",
              "        ...  \n",
              "3723      NaN\n",
              "3724      NaN\n",
              "3725    456.0\n",
              "3726    383.0\n",
              "3727      NaN\n",
              "Name: screen_coor_x, Length: 3728, dtype: float64"
            ]
          },
          "metadata": {},
          "execution_count": 45
        }
      ]
    },
    {
      "cell_type": "code",
      "source": [
        "dataset['screen_coor_x'].hist()"
      ],
      "metadata": {
        "colab": {
          "base_uri": "https://localhost:8080/",
          "height": 447
        },
        "id": "yYsqyxLJevm6",
        "outputId": "7da5bf9f-a436-486a-f1fa-13b926a92b31"
      },
      "execution_count": null,
      "outputs": [
        {
          "output_type": "execute_result",
          "data": {
            "text/plain": [
              "<Axes: >"
            ]
          },
          "metadata": {},
          "execution_count": 46
        },
        {
          "output_type": "display_data",
          "data": {
            "text/plain": [
              "<Figure size 640x480 with 1 Axes>"
            ],
            "image/png": "[encoded data removed]"
          },
          "metadata": {}
        }
      ]
    },
    {
      "cell_type": "code",
      "source": [],
      "metadata": {
        "id": "HVUbbugmfFCo"
      },
      "execution_count": null,
      "outputs": []
    },
    {
      "cell_type": "code",
      "source": [
        "dataset['screen_coor_y']"
      ],
      "metadata": {
        "colab": {
          "base_uri": "https://localhost:8080/"
        },
        "id": "mSSaBi10e2kW",
        "outputId": "31ba819b-044a-465a-b802-5ea75f32f421"
      },
      "execution_count": null,
      "outputs": [
        {
          "output_type": "execute_result",
          "data": {
            "text/plain": [
              "0       259.0\n",
              "1       398.0\n",
              "2       287.0\n",
              "3       392.0\n",
              "4       392.0\n",
              "        ...  \n",
              "3723      NaN\n",
              "3724      NaN\n",
              "3725    332.0\n",
              "3726    272.0\n",
              "3727      NaN\n",
              "Name: screen_coor_y, Length: 3728, dtype: float64"
            ]
          },
          "metadata": {},
          "execution_count": 47
        }
      ]
    },
    {
      "cell_type": "code",
      "source": [
        "dataset['screen_coor_y'].hist()"
      ],
      "metadata": {
        "colab": {
          "base_uri": "https://localhost:8080/",
          "height": 447
        },
        "id": "3SoY3TxFe-iV",
        "outputId": "5b076763-4f1a-48ab-8406-0640e1a307c2"
      },
      "execution_count": null,
      "outputs": [
        {
          "output_type": "execute_result",
          "data": {
            "text/plain": [
              "<Axes: >"
            ]
          },
          "metadata": {},
          "execution_count": 48
        },
        {
          "output_type": "display_data",
          "data": {
            "text/plain": [
              "<Figure size 640x480 with 1 Axes>"
            ],
            "image/png": "[encoded data removed]"
          },
          "metadata": {}
        }
      ]
    },
    {
      "cell_type": "code",
      "source": [
        "dataset['hover_duration']"
      ],
      "metadata": {
        "colab": {
          "base_uri": "https://localhost:8080/"
        },
        "id": "3kvr5jiPfNLZ",
        "outputId": "be9af5eb-198f-4e9a-ab1f-948ab8645ea4"
      },
      "execution_count": null,
      "outputs": [
        {
          "output_type": "execute_result",
          "data": {
            "text/plain": [
              "0         NaN\n",
              "1         NaN\n",
              "2         NaN\n",
              "3         NaN\n",
              "4         NaN\n",
              "        ...  \n",
              "3723    484.0\n",
              "3724    783.0\n",
              "3725      NaN\n",
              "3726      NaN\n",
              "3727      NaN\n",
              "Name: hover_duration, Length: 3728, dtype: float64"
            ]
          },
          "metadata": {},
          "execution_count": 49
        }
      ]
    },
    {
      "cell_type": "code",
      "source": [
        "dataset['hover_duration'].hist()"
      ],
      "metadata": {
        "colab": {
          "base_uri": "https://localhost:8080/",
          "height": 451
        },
        "id": "D6yte_6ffUrh",
        "outputId": "dbb9b4f2-8bac-4171-df73-9b3025b5bf01"
      },
      "execution_count": null,
      "outputs": [
        {
          "output_type": "execute_result",
          "data": {
            "text/plain": [
              "<Axes: >"
            ]
          },
          "metadata": {},
          "execution_count": 50
        },
        {
          "output_type": "display_data",
          "data": {
            "text/plain": [
              "<Figure size 640x480 with 1 Axes>"
            ],
            "image/png": "[encoded data removed]"
          },
          "metadata": {}
        }
      ]
    },
    {
      "cell_type": "code",
      "source": [
        "dataset['fullscreen']"
      ],
      "metadata": {
        "colab": {
          "base_uri": "https://localhost:8080/"
        },
        "id": "ZhSsyV-Vfg3t",
        "outputId": "32f0a256-df6a-4b51-8b9b-5b08e2838ad5"
      },
      "execution_count": null,
      "outputs": [
        {
          "output_type": "execute_result",
          "data": {
            "text/plain": [
              "0       0\n",
              "1       0\n",
              "2       0\n",
              "3       0\n",
              "4       0\n",
              "       ..\n",
              "3723    0\n",
              "3724    0\n",
              "3725    0\n",
              "3726    0\n",
              "3727    0\n",
              "Name: fullscreen, Length: 3728, dtype: int64"
            ]
          },
          "metadata": {},
          "execution_count": 51
        }
      ]
    },
    {
      "cell_type": "code",
      "source": [
        "dataset['fullscreen'].hist()"
      ],
      "metadata": {
        "colab": {
          "base_uri": "https://localhost:8080/",
          "height": 447
        },
        "id": "13v8NZs0fo1V",
        "outputId": "067bab8f-4638-4bb8-998f-96c4c9b0e534"
      },
      "execution_count": null,
      "outputs": [
        {
          "output_type": "execute_result",
          "data": {
            "text/plain": [
              "<Axes: >"
            ]
          },
          "metadata": {},
          "execution_count": 52
        },
        {
          "output_type": "display_data",
          "data": {
            "text/plain": [
              "<Figure size 640x480 with 1 Axes>"
            ],
            "image/png": "[encoded data removed]"
          },
          "metadata": {}
        }
      ]
    },
    {
      "cell_type": "code",
      "source": [
        "dataset['hq']"
      ],
      "metadata": {
        "colab": {
          "base_uri": "https://localhost:8080/"
        },
        "id": "MaH6EBuAf1lZ",
        "outputId": "ae833f44-9bed-4efd-8662-0d8a977c811d"
      },
      "execution_count": null,
      "outputs": [
        {
          "output_type": "execute_result",
          "data": {
            "text/plain": [
              "0       0\n",
              "1       0\n",
              "2       0\n",
              "3       0\n",
              "4       0\n",
              "       ..\n",
              "3723    0\n",
              "3724    0\n",
              "3725    0\n",
              "3726    0\n",
              "3727    0\n",
              "Name: hq, Length: 3728, dtype: int64"
            ]
          },
          "metadata": {},
          "execution_count": 53
        }
      ]
    },
    {
      "cell_type": "code",
      "source": [
        "dataset['hq'].hist()"
      ],
      "metadata": {
        "colab": {
          "base_uri": "https://localhost:8080/",
          "height": 447
        },
        "id": "Jd83S7QVf6EB",
        "outputId": "4582b897-334f-4b57-bacb-19c3b48ba223"
      },
      "execution_count": null,
      "outputs": [
        {
          "output_type": "execute_result",
          "data": {
            "text/plain": [
              "<Axes: >"
            ]
          },
          "metadata": {},
          "execution_count": 54
        },
        {
          "output_type": "display_data",
          "data": {
            "text/plain": [
              "<Figure size 640x480 with 1 Axes>"
            ],
            "image/png": "[encoded data removed]"
          },
          "metadata": {}
        }
      ]
    },
    {
      "cell_type": "code",
      "source": [
        "dataset['music']"
      ],
      "metadata": {
        "colab": {
          "base_uri": "https://localhost:8080/"
        },
        "id": "w_Sx9W1Ff_PZ",
        "outputId": "7a2820d1-739e-4f51-c7fa-9e347738b571"
      },
      "execution_count": null,
      "outputs": [
        {
          "output_type": "execute_result",
          "data": {
            "text/plain": [
              "0       1\n",
              "1       1\n",
              "2       1\n",
              "3       1\n",
              "4       1\n",
              "       ..\n",
              "3723    1\n",
              "3724    1\n",
              "3725    1\n",
              "3726    1\n",
              "3727    1\n",
              "Name: music, Length: 3728, dtype: int64"
            ]
          },
          "metadata": {},
          "execution_count": 55
        }
      ]
    },
    {
      "cell_type": "code",
      "source": [
        "dataset['music'].hist()"
      ],
      "metadata": {
        "colab": {
          "base_uri": "https://localhost:8080/",
          "height": 447
        },
        "id": "Bg2Xk9AOgCnI",
        "outputId": "0c637fcc-a05e-49db-8dde-5507c9e8fa8f"
      },
      "execution_count": null,
      "outputs": [
        {
          "output_type": "execute_result",
          "data": {
            "text/plain": [
              "<Axes: >"
            ]
          },
          "metadata": {},
          "execution_count": 56
        },
        {
          "output_type": "display_data",
          "data": {
            "text/plain": [
              "<Figure size 640x480 with 1 Axes>"
            ],
            "image/png": "[encoded data removed]"
          },
          "metadata": {}
        }
      ]
    },
    {
      "cell_type": "code",
      "source": [
        "df.shape"
      ],
      "metadata": {
        "colab": {
          "base_uri": "https://localhost:8080/"
        },
        "id": "NelUpsp4ZTUc",
        "outputId": "2484fb6a-6ec1-461a-cf6e-19e9a5472534"
      },
      "execution_count": null,
      "outputs": [
        {
          "output_type": "execute_result",
          "data": {
            "text/plain": [
              "(54, 3)"
            ]
          },
          "metadata": {},
          "execution_count": 6
        }
      ]
    },
    {
      "cell_type": "code",
      "source": [
        "df.head()"
      ],
      "metadata": {
        "colab": {
          "base_uri": "https://localhost:8080/",
          "height": 215
        },
        "id": "qM8prmZvZWsU",
        "outputId": "1aa2af4a-780c-4e84-928a-b994eea0489a"
      },
      "execution_count": null,
      "outputs": [
        {
          "output_type": "execute_result",
          "data": {
            "text/plain": [
              "             session_id  correct  session_level\n",
              "0  20090109393214576_q1        0              0\n",
              "1  20090312143683264_q1        0              3\n",
              "2  20090312331414616_q1        0              6\n",
              "3  20090109393214576_q2        0              0\n",
              "4  20090312143683264_q2        0              3"
            ],
            "text/html": [
              "\n",
              "  <div id=\"df-c1c10cdb-e8b4-4fb4-8fb8-f25772480614\">\n",
              "    <div class=\"colab-df-container\">\n",
              "      <div>\n",
              "<style scoped>\n",
              "    .dataframe tbody tr th:only-of-type {\n",
              "        vertical-align: middle;\n",
              "    }\n",
              "\n",
              "    .dataframe tbody tr th {\n",
              "        vertical-align: top;\n",
              "    }\n",
              "\n",
              "    .dataframe thead th {\n",
              "        text-align: right;\n",
              "    }\n",
              "</style>\n",
              "<table border=\"1\" class=\"dataframe\">\n",
              "  <thead>\n",
              "    <tr style=\"text-align: right;\">\n",
              "      <th></th>\n",
              "      <th>session_id</th>\n",
              "      <th>correct</th>\n",
              "      <th>session_level</th>\n",
              "    </tr>\n",
              "  </thead>\n",
              "  <tbody>\n",
              "    <tr>\n",
              "      <th>0</th>\n",
              "      <td>20090109393214576_q1</td>\n",
              "      <td>0</td>\n",
              "      <td>0</td>\n",
              "    </tr>\n",
              "    <tr>\n",
              "      <th>1</th>\n",
              "      <td>20090312143683264_q1</td>\n",
              "      <td>0</td>\n",
              "      <td>3</td>\n",
              "    </tr>\n",
              "    <tr>\n",
              "      <th>2</th>\n",
              "      <td>20090312331414616_q1</td>\n",
              "      <td>0</td>\n",
              "      <td>6</td>\n",
              "    </tr>\n",
              "    <tr>\n",
              "      <th>3</th>\n",
              "      <td>20090109393214576_q2</td>\n",
              "      <td>0</td>\n",
              "      <td>0</td>\n",
              "    </tr>\n",
              "    <tr>\n",
              "      <th>4</th>\n",
              "      <td>20090312143683264_q2</td>\n",
              "      <td>0</td>\n",
              "      <td>3</td>\n",
              "    </tr>\n",
              "  </tbody>\n",
              "</table>\n",
              "</div>\n",
              "      <button class=\"colab-df-convert\" onclick=\"convertToInteractive('df-c1c10cdb-e8b4-4fb4-8fb8-f25772480614')\"\n",
              "              title=\"Convert this dataframe to an interactive table.\"\n",
              "              style=\"display:none;\">\n",
              "        \n",
              "  <svg xmlns=\"http://www.w3.org/2000/svg\" height=\"24px\"viewBox=\"0 0 24 24\"\n",
              "       width=\"24px\">\n",
              "    <path d=\"M0 0h24v24H0V0z\" fill=\"none\"/>\n",
              "    <path d=\"M18.56 5.44l.94 2.06.94-2.06 2.06-.94-2.06-.94-.94-2.06-.94 2.06-2.06.94zm-11 1L8.5 8.5l.94-2.06 2.06-.94-2.06-.94L8.5 2.5l-.94 2.06-2.06.94zm10 10l.94 2.06.94-2.06 2.06-.94-2.06-.94-.94-2.06-.94 2.06-2.06.94z\"/><path d=\"M17.41 7.96l-1.37-1.37c-.4-.4-.92-.59-1.43-.59-.52 0-1.04.2-1.43.59L10.3 9.45l-7.72 7.72c-.78.78-.78 2.05 0 2.83L4 21.41c.39.39.9.59 1.41.59.51 0 1.02-.2 1.41-.59l7.78-7.78 2.81-2.81c.8-.78.8-2.07 0-2.86zM5.41 20L4 18.59l7.72-7.72 1.47 1.35L5.41 20z\"/>\n",
              "  </svg>\n",
              "      </button>\n",
              "      \n",
              "  <style>\n",
              "    .colab-df-container {\n",
              "      display:flex;\n",
              "      flex-wrap:wrap;\n",
              "      gap: 12px;\n",
              "    }\n",
              "\n",
              "    .colab-df-convert {\n",
              "      background-color: #E8F0FE;\n",
              "      border: none;\n",
              "      border-radius: 50%;\n",
              "      cursor: pointer;\n",
              "      display: none;\n",
              "      fill: #1967D2;\n",
              "      height: 32px;\n",
              "      padding: 0 0 0 0;\n",
              "      width: 32px;\n",
              "    }\n",
              "\n",
              "    .colab-df-convert:hover {\n",
              "      background-color: #E2EBFA;\n",
              "      box-shadow: 0px 1px 2px rgba(60, 64, 67, 0.3), 0px 1px 3px 1px rgba(60, 64, 67, 0.15);\n",
              "      fill: #174EA6;\n",
              "    }\n",
              "\n",
              "    [theme=dark] .colab-df-convert {\n",
              "      background-color: #3B4455;\n",
              "      fill: #D2E3FC;\n",
              "    }\n",
              "\n",
              "    [theme=dark] .colab-df-convert:hover {\n",
              "      background-color: #434B5C;\n",
              "      box-shadow: 0px 1px 3px 1px rgba(0, 0, 0, 0.15);\n",
              "      filter: drop-shadow(0px 1px 2px rgba(0, 0, 0, 0.3));\n",
              "      fill: #FFFFFF;\n",
              "    }\n",
              "  </style>\n",
              "\n",
              "      <script>\n",
              "        const buttonEl =\n",
              "          document.querySelector('#df-c1c10cdb-e8b4-4fb4-8fb8-f25772480614 button.colab-df-convert');\n",
              "        buttonEl.style.display =\n",
              "          google.colab.kernel.accessAllowed ? 'block' : 'none';\n",
              "\n",
              "        async function convertToInteractive(key) {\n",
              "          const element = document.querySelector('#df-c1c10cdb-e8b4-4fb4-8fb8-f25772480614');\n",
              "          const dataTable =\n",
              "            await google.colab.kernel.invokeFunction('convertToInteractive',\n",
              "                                                     [key], {});\n",
              "          if (!dataTable) return;\n",
              "\n",
              "          const docLinkHtml = 'Like what you see? Visit the ' +\n",
              "            '<a target=\"_blank\" href=https://colab.research.google.com/notebooks/data_table.ipynb>data table notebook</a>'\n",
              "            + ' to learn more about interactive tables.';\n",
              "          element.innerHTML = '';\n",
              "          dataTable['output_type'] = 'display_data';\n",
              "          await google.colab.output.renderOutput(dataTable, element);\n",
              "          const docLink = document.createElement('div');\n",
              "          docLink.innerHTML = docLinkHtml;\n",
              "          element.appendChild(docLink);\n",
              "        }\n",
              "      </script>\n",
              "    </div>\n",
              "  </div>\n",
              "  "
            ]
          },
          "metadata": {},
          "execution_count": 7
        }
      ]
    },
    {
      "cell_type": "code",
      "source": [
        "df.tail()"
      ],
      "metadata": {
        "colab": {
          "base_uri": "https://localhost:8080/",
          "height": 206
        },
        "id": "nTH4yu_KZeLt",
        "outputId": "724d9dfa-c677-4e97-9231-aab1566a341c"
      },
      "execution_count": null,
      "outputs": [
        {
          "output_type": "execute_result",
          "data": {
            "text/plain": [
              "               session_id  correct  session_level\n",
              "49  20090312143683264_q17        0              5\n",
              "50  20090312331414616_q17        0              8\n",
              "51  20090109393214576_q18        0              2\n",
              "52  20090312143683264_q18        0              5\n",
              "53  20090312331414616_q18        0              8"
            ],
            "text/html": [
              "\n",
              "  <div id=\"df-5e82b5e4-3de4-4d5e-9068-c3386144ae4d\">\n",
              "    <div class=\"colab-df-container\">\n",
              "      <div>\n",
              "<style scoped>\n",
              "    .dataframe tbody tr th:only-of-type {\n",
              "        vertical-align: middle;\n",
              "    }\n",
              "\n",
              "    .dataframe tbody tr th {\n",
              "        vertical-align: top;\n",
              "    }\n",
              "\n",
              "    .dataframe thead th {\n",
              "        text-align: right;\n",
              "    }\n",
              "</style>\n",
              "<table border=\"1\" class=\"dataframe\">\n",
              "  <thead>\n",
              "    <tr style=\"text-align: right;\">\n",
              "      <th></th>\n",
              "      <th>session_id</th>\n",
              "      <th>correct</th>\n",
              "      <th>session_level</th>\n",
              "    </tr>\n",
              "  </thead>\n",
              "  <tbody>\n",
              "    <tr>\n",
              "      <th>49</th>\n",
              "      <td>20090312143683264_q17</td>\n",
              "      <td>0</td>\n",
              "      <td>5</td>\n",
              "    </tr>\n",
              "    <tr>\n",
              "      <th>50</th>\n",
              "      <td>20090312331414616_q17</td>\n",
              "      <td>0</td>\n",
              "      <td>8</td>\n",
              "    </tr>\n",
              "    <tr>\n",
              "      <th>51</th>\n",
              "      <td>20090109393214576_q18</td>\n",
              "      <td>0</td>\n",
              "      <td>2</td>\n",
              "    </tr>\n",
              "    <tr>\n",
              "      <th>52</th>\n",
              "      <td>20090312143683264_q18</td>\n",
              "      <td>0</td>\n",
              "      <td>5</td>\n",
              "    </tr>\n",
              "    <tr>\n",
              "      <th>53</th>\n",
              "      <td>20090312331414616_q18</td>\n",
              "      <td>0</td>\n",
              "      <td>8</td>\n",
              "    </tr>\n",
              "  </tbody>\n",
              "</table>\n",
              "</div>\n",
              "      <button class=\"colab-df-convert\" onclick=\"convertToInteractive('df-5e82b5e4-3de4-4d5e-9068-c3386144ae4d')\"\n",
              "              title=\"Convert this dataframe to an interactive table.\"\n",
              "              style=\"display:none;\">\n",
              "        \n",
              "  <svg xmlns=\"http://www.w3.org/2000/svg\" height=\"24px\"viewBox=\"0 0 24 24\"\n",
              "       width=\"24px\">\n",
              "    <path d=\"M0 0h24v24H0V0z\" fill=\"none\"/>\n",
              "    <path d=\"M18.56 5.44l.94 2.06.94-2.06 2.06-.94-2.06-.94-.94-2.06-.94 2.06-2.06.94zm-11 1L8.5 8.5l.94-2.06 2.06-.94-2.06-.94L8.5 2.5l-.94 2.06-2.06.94zm10 10l.94 2.06.94-2.06 2.06-.94-2.06-.94-.94-2.06-.94 2.06-2.06.94z\"/><path d=\"M17.41 7.96l-1.37-1.37c-.4-.4-.92-.59-1.43-.59-.52 0-1.04.2-1.43.59L10.3 9.45l-7.72 7.72c-.78.78-.78 2.05 0 2.83L4 21.41c.39.39.9.59 1.41.59.51 0 1.02-.2 1.41-.59l7.78-7.78 2.81-2.81c.8-.78.8-2.07 0-2.86zM5.41 20L4 18.59l7.72-7.72 1.47 1.35L5.41 20z\"/>\n",
              "  </svg>\n",
              "      </button>\n",
              "      \n",
              "  <style>\n",
              "    .colab-df-container {\n",
              "      display:flex;\n",
              "      flex-wrap:wrap;\n",
              "      gap: 12px;\n",
              "    }\n",
              "\n",
              "    .colab-df-convert {\n",
              "      background-color: #E8F0FE;\n",
              "      border: none;\n",
              "      border-radius: 50%;\n",
              "      cursor: pointer;\n",
              "      display: none;\n",
              "      fill: #1967D2;\n",
              "      height: 32px;\n",
              "      padding: 0 0 0 0;\n",
              "      width: 32px;\n",
              "    }\n",
              "\n",
              "    .colab-df-convert:hover {\n",
              "      background-color: #E2EBFA;\n",
              "      box-shadow: 0px 1px 2px rgba(60, 64, 67, 0.3), 0px 1px 3px 1px rgba(60, 64, 67, 0.15);\n",
              "      fill: #174EA6;\n",
              "    }\n",
              "\n",
              "    [theme=dark] .colab-df-convert {\n",
              "      background-color: #3B4455;\n",
              "      fill: #D2E3FC;\n",
              "    }\n",
              "\n",
              "    [theme=dark] .colab-df-convert:hover {\n",
              "      background-color: #434B5C;\n",
              "      box-shadow: 0px 1px 3px 1px rgba(0, 0, 0, 0.15);\n",
              "      filter: drop-shadow(0px 1px 2px rgba(0, 0, 0, 0.3));\n",
              "      fill: #FFFFFF;\n",
              "    }\n",
              "  </style>\n",
              "\n",
              "      <script>\n",
              "        const buttonEl =\n",
              "          document.querySelector('#df-5e82b5e4-3de4-4d5e-9068-c3386144ae4d button.colab-df-convert');\n",
              "        buttonEl.style.display =\n",
              "          google.colab.kernel.accessAllowed ? 'block' : 'none';\n",
              "\n",
              "        async function convertToInteractive(key) {\n",
              "          const element = document.querySelector('#df-5e82b5e4-3de4-4d5e-9068-c3386144ae4d');\n",
              "          const dataTable =\n",
              "            await google.colab.kernel.invokeFunction('convertToInteractive',\n",
              "                                                     [key], {});\n",
              "          if (!dataTable) return;\n",
              "\n",
              "          const docLinkHtml = 'Like what you see? Visit the ' +\n",
              "            '<a target=\"_blank\" href=https://colab.research.google.com/notebooks/data_table.ipynb>data table notebook</a>'\n",
              "            + ' to learn more about interactive tables.';\n",
              "          element.innerHTML = '';\n",
              "          dataTable['output_type'] = 'display_data';\n",
              "          await google.colab.output.renderOutput(dataTable, element);\n",
              "          const docLink = document.createElement('div');\n",
              "          docLink.innerHTML = docLinkHtml;\n",
              "          element.appendChild(docLink);\n",
              "        }\n",
              "      </script>\n",
              "    </div>\n",
              "  </div>\n",
              "  "
            ]
          },
          "metadata": {},
          "execution_count": 8
        }
      ]
    },
    {
      "cell_type": "code",
      "source": [
        "df['correct'].hist()"
      ],
      "metadata": {
        "colab": {
          "base_uri": "https://localhost:8080/",
          "height": 447
        },
        "id": "qULTR2X3Zz1n",
        "outputId": "8eb176c0-c3fc-4b72-a864-5b01743049c2"
      },
      "execution_count": null,
      "outputs": [
        {
          "output_type": "execute_result",
          "data": {
            "text/plain": [
              "<Axes: >"
            ]
          },
          "metadata": {},
          "execution_count": 10
        },
        {
          "output_type": "display_data",
          "data": {
            "text/plain": [
              "<Figure size 640x480 with 1 Axes>"
            ],
            "image/png": "[encoded data removed]"
          },
          "metadata": {}
        }
      ]
    },
    {
      "cell_type": "code",
      "source": [
        "df['session_level'].hist()"
      ],
      "metadata": {
        "colab": {
          "base_uri": "https://localhost:8080/",
          "height": 447
        },
        "id": "FDid9WrKZ9AB",
        "outputId": "1bd342a2-e8b3-4d77-c54a-69842c8cded2"
      },
      "execution_count": null,
      "outputs": [
        {
          "output_type": "execute_result",
          "data": {
            "text/plain": [
              "<Axes: >"
            ]
          },
          "metadata": {},
          "execution_count": 12
        },
        {
          "output_type": "display_data",
          "data": {
            "text/plain": [
              "<Figure size 640x480 with 1 Axes>"
            ],
            "image/png": "[encoded data removed]"
          },
          "metadata": {}
        }
      ]
    },
    {
      "cell_type": "code",
      "source": [
        "df.head(5)"
      ],
      "metadata": {
        "colab": {
          "base_uri": "https://localhost:8080/",
          "height": 215
        },
        "id": "SmERBBbyaWhN",
        "outputId": "5cc331f0-5a30-4d80-81f2-2254c1d9e082"
      },
      "execution_count": null,
      "outputs": [
        {
          "output_type": "execute_result",
          "data": {
            "text/plain": [
              "             session_id  correct  session_level\n",
              "0  20090109393214576_q1        0              0\n",
              "1  20090312143683264_q1        0              3\n",
              "2  20090312331414616_q1        0              6\n",
              "3  20090109393214576_q2        0              0\n",
              "4  20090312143683264_q2        0              3"
            ],
            "text/html": [
              "\n",
              "  <div id=\"df-c9650938-ebe4-43fe-81f8-97e976befb42\">\n",
              "    <div class=\"colab-df-container\">\n",
              "      <div>\n",
              "<style scoped>\n",
              "    .dataframe tbody tr th:only-of-type {\n",
              "        vertical-align: middle;\n",
              "    }\n",
              "\n",
              "    .dataframe tbody tr th {\n",
              "        vertical-align: top;\n",
              "    }\n",
              "\n",
              "    .dataframe thead th {\n",
              "        text-align: right;\n",
              "    }\n",
              "</style>\n",
              "<table border=\"1\" class=\"dataframe\">\n",
              "  <thead>\n",
              "    <tr style=\"text-align: right;\">\n",
              "      <th></th>\n",
              "      <th>session_id</th>\n",
              "      <th>correct</th>\n",
              "      <th>session_level</th>\n",
              "    </tr>\n",
              "  </thead>\n",
              "  <tbody>\n",
              "    <tr>\n",
              "      <th>0</th>\n",
              "      <td>20090109393214576_q1</td>\n",
              "      <td>0</td>\n",
              "      <td>0</td>\n",
              "    </tr>\n",
              "    <tr>\n",
              "      <th>1</th>\n",
              "      <td>20090312143683264_q1</td>\n",
              "      <td>0</td>\n",
              "      <td>3</td>\n",
              "    </tr>\n",
              "    <tr>\n",
              "      <th>2</th>\n",
              "      <td>20090312331414616_q1</td>\n",
              "      <td>0</td>\n",
              "      <td>6</td>\n",
              "    </tr>\n",
              "    <tr>\n",
              "      <th>3</th>\n",
              "      <td>20090109393214576_q2</td>\n",
              "      <td>0</td>\n",
              "      <td>0</td>\n",
              "    </tr>\n",
              "    <tr>\n",
              "      <th>4</th>\n",
              "      <td>20090312143683264_q2</td>\n",
              "      <td>0</td>\n",
              "      <td>3</td>\n",
              "    </tr>\n",
              "  </tbody>\n",
              "</table>\n",
              "</div>\n",
              "      <button class=\"colab-df-convert\" onclick=\"convertToInteractive('df-c9650938-ebe4-43fe-81f8-97e976befb42')\"\n",
              "              title=\"Convert this dataframe to an interactive table.\"\n",
              "              style=\"display:none;\">\n",
              "        \n",
              "  <svg xmlns=\"http://www.w3.org/2000/svg\" height=\"24px\"viewBox=\"0 0 24 24\"\n",
              "       width=\"24px\">\n",
              "    <path d=\"M0 0h24v24H0V0z\" fill=\"none\"/>\n",
              "    <path d=\"M18.56 5.44l.94 2.06.94-2.06 2.06-.94-2.06-.94-.94-2.06-.94 2.06-2.06.94zm-11 1L8.5 8.5l.94-2.06 2.06-.94-2.06-.94L8.5 2.5l-.94 2.06-2.06.94zm10 10l.94 2.06.94-2.06 2.06-.94-2.06-.94-.94-2.06-.94 2.06-2.06.94z\"/><path d=\"M17.41 7.96l-1.37-1.37c-.4-.4-.92-.59-1.43-.59-.52 0-1.04.2-1.43.59L10.3 9.45l-7.72 7.72c-.78.78-.78 2.05 0 2.83L4 21.41c.39.39.9.59 1.41.59.51 0 1.02-.2 1.41-.59l7.78-7.78 2.81-2.81c.8-.78.8-2.07 0-2.86zM5.41 20L4 18.59l7.72-7.72 1.47 1.35L5.41 20z\"/>\n",
              "  </svg>\n",
              "      </button>\n",
              "      \n",
              "  <style>\n",
              "    .colab-df-container {\n",
              "      display:flex;\n",
              "      flex-wrap:wrap;\n",
              "      gap: 12px;\n",
              "    }\n",
              "\n",
              "    .colab-df-convert {\n",
              "      background-color: #E8F0FE;\n",
              "      border: none;\n",
              "      border-radius: 50%;\n",
              "      cursor: pointer;\n",
              "      display: none;\n",
              "      fill: #1967D2;\n",
              "      height: 32px;\n",
              "      padding: 0 0 0 0;\n",
              "      width: 32px;\n",
              "    }\n",
              "\n",
              "    .colab-df-convert:hover {\n",
              "      background-color: #E2EBFA;\n",
              "      box-shadow: 0px 1px 2px rgba(60, 64, 67, 0.3), 0px 1px 3px 1px rgba(60, 64, 67, 0.15);\n",
              "      fill: #174EA6;\n",
              "    }\n",
              "\n",
              "    [theme=dark] .colab-df-convert {\n",
              "      background-color: #3B4455;\n",
              "      fill: #D2E3FC;\n",
              "    }\n",
              "\n",
              "    [theme=dark] .colab-df-convert:hover {\n",
              "      background-color: #434B5C;\n",
              "      box-shadow: 0px 1px 3px 1px rgba(0, 0, 0, 0.15);\n",
              "      filter: drop-shadow(0px 1px 2px rgba(0, 0, 0, 0.3));\n",
              "      fill: #FFFFFF;\n",
              "    }\n",
              "  </style>\n",
              "\n",
              "      <script>\n",
              "        const buttonEl =\n",
              "          document.querySelector('#df-c9650938-ebe4-43fe-81f8-97e976befb42 button.colab-df-convert');\n",
              "        buttonEl.style.display =\n",
              "          google.colab.kernel.accessAllowed ? 'block' : 'none';\n",
              "\n",
              "        async function convertToInteractive(key) {\n",
              "          const element = document.querySelector('#df-c9650938-ebe4-43fe-81f8-97e976befb42');\n",
              "          const dataTable =\n",
              "            await google.colab.kernel.invokeFunction('convertToInteractive',\n",
              "                                                     [key], {});\n",
              "          if (!dataTable) return;\n",
              "\n",
              "          const docLinkHtml = 'Like what you see? Visit the ' +\n",
              "            '<a target=\"_blank\" href=https://colab.research.google.com/notebooks/data_table.ipynb>data table notebook</a>'\n",
              "            + ' to learn more about interactive tables.';\n",
              "          element.innerHTML = '';\n",
              "          dataTable['output_type'] = 'display_data';\n",
              "          await google.colab.output.renderOutput(dataTable, element);\n",
              "          const docLink = document.createElement('div');\n",
              "          docLink.innerHTML = docLinkHtml;\n",
              "          element.appendChild(docLink);\n",
              "        }\n",
              "      </script>\n",
              "    </div>\n",
              "  </div>\n",
              "  "
            ]
          },
          "metadata": {},
          "execution_count": 15
        }
      ]
    }
  ]
}