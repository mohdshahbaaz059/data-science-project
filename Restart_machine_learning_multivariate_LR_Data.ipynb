{
  "nbformat": 4,
  "nbformat_minor": 0,
  "metadata": {
    "colab": {
      "provenance": [],
      "authorship_tag": "ABX9TyNqKjOvodPOPoECKRoZ+4gE",
      "include_colab_link": true
    },
    "kernelspec": {
      "name": "python3",
      "display_name": "Python 3"
    },
    "language_info": {
      "name": "python"
    }
  },
  "cells": [
    {
      "cell_type": "markdown",
      "metadata": {
        "id": "view-in-github",
        "colab_type": "text"
      },
      "source": [
        "<a href=\"https://colab.research.google.com/github/mohdshahbaaz059/data-science-project/blob/main/Restart_machine_learning_multivariate_LR_Data.ipynb\" target=\"_parent\"><img src=\"https://colab.research.google.com/assets/colab-badge.svg\" alt=\"Open In Colab\"/></a>"
      ]
    },
    {
      "cell_type": "markdown",
      "source": [
        "Features\n",
        "\n",
        "x0, x1, x2\n",
        "\n",
        "target Variable\n",
        "\n",
        "y_a\n",
        "\n",
        "\n",
        "***CREATING THE DATA***"
      ],
      "metadata": {
        "id": "O7o_njP6liSw"
      }
    },
    {
      "cell_type": "code",
      "source": [
        "import numpy as np\n",
        "len = 20000\n",
        "x0 = np.random.rand(1,len) # uniform\n",
        "x1 = np.random.randn(1,len) # gaussian\n",
        "x2 = np.random.poisson(2,len).reshape(1,len) # poisson\n",
        "m0 =  5\n",
        "m1 = 10\n",
        "m2 = 15\n",
        "c = 1\n",
        "\n",
        "y_a = (m0 * x0) + (m1 * x1) + (m2 * x2) + C\n",
        "\n",
        "import pandas as pd\n",
        "df = pd.DataFrame()\n",
        "df['x0'] = list(x0)\n",
        "df['x1'] = list(x1) \n",
        "df['x2'] = list(x2)\n",
        "df['y_a'] = list(y_a)\n"
      ],
      "metadata": {
        "id": "iM_ljnSYl4yg"
      },
      "execution_count": 211,
      "outputs": []
    },
    {
      "cell_type": "code",
      "source": [
        "df['x1'].hist()"
      ],
      "metadata": {
        "id": "iGdY6lKHCIW-"
      },
      "execution_count": null,
      "outputs": []
    },
    {
      "cell_type": "code",
      "source": [
        "df['x2'].hist()"
      ],
      "metadata": {
        "id": "BNwIF9XGCIcQ"
      },
      "execution_count": null,
      "outputs": []
    },
    {
      "cell_type": "code",
      "source": [
        "df['y_a'].hist()"
      ],
      "metadata": {
        "id": "5AJsrfgxCdEF"
      },
      "execution_count": null,
      "outputs": []
    },
    {
      "cell_type": "code",
      "source": [
        "df.corr()"
      ],
      "metadata": {
        "id": "OYFbrW_TsvhU"
      },
      "execution_count": null,
      "outputs": []
    },
    {
      "cell_type": "code",
      "source": [
        "df"
      ],
      "metadata": {
        "id": "fUP0zGQUHHed"
      },
      "execution_count": null,
      "outputs": []
    },
    {
      "cell_type": "code",
      "source": [
        "M = [m0,m1,m2]\n",
        "X = df[['x0','x1','x2']]\n",
        "\n",
        "def hypothesis(M,X,C):\n",
        "  _ = (M[0] * X['x0']) + (M[1] *  X['x1']) + (M[2] * X['x2']) + C\n",
        "  _ = np.array(list(_))\n",
        "  return _"
      ],
      "metadata": {
        "id": "EBLwETRmCjHq"
      },
      "execution_count": 217,
      "outputs": []
    },
    {
      "cell_type": "code",
      "source": [
        "def  error(y_p,y_a):\n",
        "  return np.mean((y_p - np.array(y_a))**2)"
      ],
      "metadata": {
        "id": "M1UdDCkRkDAV"
      },
      "execution_count": 218,
      "outputs": []
    },
    {
      "cell_type": "code",
      "source": [
        "M = [5,10,15]\n",
        "C = 1\n",
        "y_p = hypothesis(M,X,C)\n",
        "error(y_p,y_a)"
      ],
      "metadata": {
        "colab": {
          "base_uri": "https://localhost:8080/"
        },
        "id": "jY43J-vzF1I_",
        "outputId": "a4df5df1-5175-4639-f749-96f4ed8e8770"
      },
      "execution_count": 219,
      "outputs": [
        {
          "output_type": "execute_result",
          "data": {
            "text/plain": [
              "0.0"
            ]
          },
          "metadata": {},
          "execution_count": 219
        }
      ]
    },
    {
      "cell_type": "code",
      "source": [
        "def der_m(e,x):\n",
        "  _ = 2 * np.sqrt(e) * x\n",
        "  _ = list(_)\n",
        "  return np.mean(_)\n",
        "\n",
        "def der_c(e):\n",
        "  return np.mean(2 * np.sqrt(e))"
      ],
      "metadata": {
        "id": "P8z2mKQbqcHn"
      },
      "execution_count": 225,
      "outputs": []
    },
    {
      "cell_type": "code",
      "source": [
        "target_M = [5,10,15]\n",
        "lr = 0.000000000000000000000000001\n",
        "M = [100,500,100]\n",
        "C = 10\n",
        "errors = []\n",
        "for i in range(100):\n",
        "  y_p = hypothesis(M,X,C)\n",
        "  e = error(y_p,y_a)\n",
        "  m0 = m0 - lr * der_m(e,X['x0'])\n",
        "  m1 = m1 - lr * der_m(e,X['x1'])\n",
        "  m1 = m1 - lr * der_m(e,X['x2'])\n",
        "  C = C   - lr * der_c(e)\n",
        "  M = [m0,m1,m2]\n",
        "  errors.append(e)"
      ],
      "metadata": {
        "id": "HvyD0UkOoQ5Y"
      },
      "execution_count": 243,
      "outputs": []
    },
    {
      "cell_type": "code",
      "source": [
        "import  matplotlib.pyplot as plt\n",
        "plt.plot(errors)"
      ],
      "metadata": {
        "colab": {
          "base_uri": "https://localhost:8080/",
          "height": 447
        },
        "id": "LkPz8K1Uwny_",
        "outputId": "694ac181-f9d7-4a6d-8436-80952ad3df15"
      },
      "execution_count": 244,
      "outputs": [
        {
          "output_type": "execute_result",
          "data": {
            "text/plain": [
              "[<matplotlib.lines.Line2D at 0x7fafe0686050>]"
            ]
          },
          "metadata": {},
          "execution_count": 244
        },
        {
          "output_type": "display_data",
          "data": {
            "text/plain": [
              "<Figure size 640x480 with 1 Axes>"
            ],
            "image/png": "[encoded data removed]"
          },
          "metadata": {}
        }
      ]
    },
    {
      "cell_type": "code",
      "source": [
        "e"
      ],
      "metadata": {
        "colab": {
          "base_uri": "https://localhost:8080/"
        },
        "id": "zOCtx9WxvmgG",
        "outputId": "3333876c-bda8-4ccc-eae4-79095ee9f23a"
      },
      "execution_count": 229,
      "outputs": [
        {
          "output_type": "execute_result",
          "data": {
            "text/plain": [
              "77.16294764674397"
            ]
          },
          "metadata": {},
          "execution_count": 229
        }
      ]
    },
    {
      "cell_type": "code",
      "source": [
        "error(y_p,y_a) * X['x0']"
      ],
      "metadata": {
        "colab": {
          "base_uri": "https://localhost:8080/"
        },
        "id": "8bynX7RquTGa",
        "outputId": "88670f6e-9fcc-400a-f1eb-9b3e3a498cd1"
      },
      "execution_count": 224,
      "outputs": [
        {
          "output_type": "execute_result",
          "data": {
            "text/plain": [
              "0    [213.15079026785565, 891.8176502872362, 224.04...\n",
              "Name: x0, dtype: object"
            ]
          },
          "metadata": {},
          "execution_count": 224
        }
      ]
    }
  ]
}