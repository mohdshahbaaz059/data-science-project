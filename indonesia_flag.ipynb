{
  "nbformat": 4,
  "nbformat_minor": 0,
  "metadata": {
    "colab": {
      "provenance": [],
      "authorship_tag": "ABX9TyP6sBTZT6acSQNMQfx8FXKP",
      "include_colab_link": true
    },
    "kernelspec": {
      "name": "python3",
      "display_name": "Python 3"
    },
    "language_info": {
      "name": "python"
    }
  },
  "cells": [
    {
      "cell_type": "markdown",
      "metadata": {
        "id": "view-in-github",
        "colab_type": "text"
      },
      "source": [
        "<a href=\"https://colab.research.google.com/github/mohdshahbaaz059/data-science-project/blob/main/indonesia_flag.ipynb\" target=\"_parent\"><img src=\"https://colab.research.google.com/assets/colab-badge.svg\" alt=\"Open In Colab\"/></a>"
      ]
    },
    {
      "cell_type": "code",
      "execution_count": 1,
      "metadata": {
        "id": "_5tbOLZYzGx1"
      },
      "outputs": [],
      "source": [
        "import numpy as np\n",
        "import matplotlib.pyplot as py\n",
        "import matplotlib.patches as patch\n"
      ]
    },
    {
      "cell_type": "code",
      "source": [
        "#plotting the colours in national flag\n",
        "a = patch.Rectangle((0,1), width=6, height=2, facecolor='#FFFFFF', edgecolor='grey')\n",
        "b = patch.Rectangle((0,3), width=6, height=2, facecolor='#FF0000', edgecolor='grey')\n",
        "m,n = py.subplots()\n",
        "n.add_patch(a)\n",
        "n.add_patch(b)\n",
        "\n",
        "\n",
        "py.axis('equal')\n",
        "py.show()\n",
        "\n",
        "#clcoding.com\n",
        "\n"
      ],
      "metadata": {
        "colab": {
          "base_uri": "https://localhost:8080/",
          "height": 430
        },
        "id": "osYG3pxyzfk1",
        "outputId": "2033d997-5d19-4894-c79e-f4358680486a"
      },
      "execution_count": 3,
      "outputs": [
        {
          "output_type": "display_data",
          "data": {
            "text/plain": [
              "<Figure size 640x480 with 1 Axes>"
            ],
            "image/png": "[encoded data removed]"
          },
          "metadata": {}
        }
      ]
    },
    {
      "cell_type": "code",
      "source": [
        "()"
      ],
      "metadata": {
        "id": "5ruyZ9JW1YYn"
      },
      "execution_count": null,
      "outputs": []
    }
  ]
}